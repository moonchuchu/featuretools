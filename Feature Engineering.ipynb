{
  "nbformat": 4,
  "nbformat_minor": 0,
  "metadata": {
    "kernelspec": {
      "display_name": "Python 3",
      "language": "python",
      "name": "python3"
    },
    "language_info": {
      "codemirror_mode": {
        "name": "ipython",
        "version": 3
      },
      "file_extension": ".py",
      "mimetype": "text/x-python",
      "name": "python",
      "nbconvert_exporter": "python",
      "pygments_lexer": "ipython3",
      "version": "3.7.4"
    },
    "toc": {
      "base_numbering": 1,
      "nav_menu": {},
      "number_sections": true,
      "sideBar": true,
      "skip_h1_title": false,
      "title_cell": "Table of Contents",
      "title_sidebar": "Contents",
      "toc_cell": false,
      "toc_position": {},
      "toc_section_display": true,
      "toc_window_display": false
    },
    "varInspector": {
      "cols": {
        "lenName": 16,
        "lenType": 16,
        "lenVar": 40
      },
      "kernels_config": {
        "python": {
          "delete_cmd_postfix": "",
          "delete_cmd_prefix": "del ",
          "library": "var_list.py",
          "varRefreshCmd": "print(var_dic_list())"
        },
        "r": {
          "delete_cmd_postfix": ") ",
          "delete_cmd_prefix": "rm(",
          "library": "var_list.r",
          "varRefreshCmd": "cat(var_dic_list()) "
        }
      },
      "types_to_exclude": [
        "module",
        "function",
        "builtin_function_or_method",
        "instance",
        "_Feature"
      ],
      "window_display": false
    },
    "colab": {
      "name": "Feature Engineering.ipynb",
      "provenance": [],
      "toc_visible": true
    }
  },
  "cells": [
    {
      "cell_type": "markdown",
      "metadata": {
        "id": "OpkANzxAdUrg"
      },
      "source": [
        "**Note**: This notebook has been adapted from the one [here](https://github.com/Featuretools/predict-customer-churn/blob/master/churn/3.%20Feature%20Engineering.ipynb) to remove any dependencies on AWS and S3 so as to just focus on the featuretools functionality without requireming you to make an AWS account and set up the `aws` cli. You should check out the full repo for some other cool notebooks and examples using Spark and Dask."
      ]
    },
    {
      "cell_type": "markdown",
      "metadata": {
        "id": "W37PWRzLdUrz"
      },
      "source": [
        "<a href=\"https://colab.research.google.com/github/springboard-curriculum/featuretools/blob/master/Feature%20Engineering.ipynb\" target=\"_blank\"><img src=\"https://colab.research.google.com/assets/colab-badge.svg\" alt=\"Open In Colab\"/></a>"
      ]
    },
    {
      "cell_type": "code",
      "metadata": {
        "colab": {
          "base_uri": "https://localhost:8080/",
          "height": 1000
        },
        "id": "GGhGR6smdUr1",
        "outputId": "d34dd82e-a601-4735-87fc-8b4e09a3829a"
      },
      "source": [
        "# uncomment and run below to install required libraries if need to\n",
        "!pip install pandas==1.1.1 featuretools==0.4.0 dask==0.19.4 distributed==1.21.6 tornado==5.0.0"
      ],
      "execution_count": 1,
      "outputs": [
        {
          "output_type": "stream",
          "text": [
            "Collecting pandas==1.1.1\n",
            "\u001b[?25l  Downloading https://files.pythonhosted.org/packages/61/ed/10112535645ad7afd26c3b9defd20a32d9e42340b19c4f73ff26ccad06ee/pandas-1.1.1-cp37-cp37m-manylinux1_x86_64.whl (10.5MB)\n",
            "\u001b[K     |████████████████████████████████| 10.5MB 6.4MB/s \n",
            "\u001b[?25hCollecting featuretools==0.4.0\n",
            "\u001b[?25l  Downloading https://files.pythonhosted.org/packages/e6/61/0ad76c34d3e95f431365b73b7e7dfb357e03b12ad37be08f261a057b5e13/featuretools-0.4.0.tar.gz (142kB)\n",
            "\u001b[K     |████████████████████████████████| 143kB 2.6MB/s \n",
            "\u001b[?25hCollecting dask==0.19.4\n",
            "\u001b[?25l  Downloading https://files.pythonhosted.org/packages/86/73/8ffed9140e343455427e92e6a32c354e9acdbef0a23d0e8d6c336d4947e5/dask-0.19.4-py2.py3-none-any.whl (674kB)\n",
            "\u001b[K     |████████████████████████████████| 675kB 37.6MB/s \n",
            "\u001b[?25hCollecting distributed==1.21.6\n",
            "\u001b[?25l  Downloading https://files.pythonhosted.org/packages/39/e8/7453e61bbee910aa91936743d6782a2108c28d9945f5f61cf801b485b5fa/distributed-1.21.6-py2.py3-none-any.whl (458kB)\n",
            "\u001b[K     |████████████████████████████████| 460kB 29.8MB/s \n",
            "\u001b[?25hCollecting tornado==5.0.0\n",
            "\u001b[?25l  Downloading https://files.pythonhosted.org/packages/59/4b/2c992ec4feb904471125702ed1dd3c912de1630c03bd555c3b05a41da93e/tornado-5.0.tar.gz (504kB)\n",
            "\u001b[K     |████████████████████████████████| 512kB 37.6MB/s \n",
            "\u001b[?25hRequirement already satisfied: python-dateutil>=2.7.3 in /usr/local/lib/python3.7/dist-packages (from pandas==1.1.1) (2.8.1)\n",
            "Requirement already satisfied: numpy>=1.15.4 in /usr/local/lib/python3.7/dist-packages (from pandas==1.1.1) (1.19.5)\n",
            "Requirement already satisfied: pytz>=2017.2 in /usr/local/lib/python3.7/dist-packages (from pandas==1.1.1) (2018.9)\n",
            "Collecting s3fs>=0.1.2\n",
            "  Downloading https://files.pythonhosted.org/packages/f7/57/f22362bc2d11ed7a7fa94f0997b1229c73b4f28d8595d0fdc78802c011f6/s3fs-2021.4.0-py3-none-any.whl\n",
            "Requirement already satisfied: tqdm>=4.19.2 in /usr/local/lib/python3.7/dist-packages (from featuretools==0.4.0) (4.41.1)\n",
            "Requirement already satisfied: toolz>=0.8.2 in /usr/local/lib/python3.7/dist-packages (from featuretools==0.4.0) (0.11.1)\n",
            "Requirement already satisfied: pyyaml>=3.12 in /usr/local/lib/python3.7/dist-packages (from featuretools==0.4.0) (3.13)\n",
            "Requirement already satisfied: cloudpickle>=0.4.0 in /usr/local/lib/python3.7/dist-packages (from featuretools==0.4.0) (1.3.0)\n",
            "Requirement already satisfied: future>=0.16.0 in /usr/local/lib/python3.7/dist-packages (from featuretools==0.4.0) (0.16.0)\n",
            "Requirement already satisfied: psutil>=5.4.8 in /usr/local/lib/python3.7/dist-packages (from featuretools==0.4.0) (5.4.8)\n",
            "Requirement already satisfied: six in /usr/local/lib/python3.7/dist-packages (from distributed==1.21.6) (1.15.0)\n",
            "Collecting msgpack-python\n",
            "\u001b[?25l  Downloading https://files.pythonhosted.org/packages/8a/20/6eca772d1a5830336f84aca1d8198e5a3f4715cd1c7fc36d3cc7f7185091/msgpack-python-0.5.6.tar.gz (138kB)\n",
            "\u001b[K     |████████████████████████████████| 143kB 43.1MB/s \n",
            "\u001b[?25hRequirement already satisfied: sortedcontainers in /usr/local/lib/python3.7/dist-packages (from distributed==1.21.6) (2.3.0)\n",
            "Requirement already satisfied: tblib in /usr/local/lib/python3.7/dist-packages (from distributed==1.21.6) (1.7.0)\n",
            "Requirement already satisfied: click>=6.6 in /usr/local/lib/python3.7/dist-packages (from distributed==1.21.6) (7.1.2)\n",
            "Requirement already satisfied: zict>=0.1.3 in /usr/local/lib/python3.7/dist-packages (from distributed==1.21.6) (2.0.0)\n",
            "Collecting fsspec==2021.04.0\n",
            "\u001b[?25l  Downloading https://files.pythonhosted.org/packages/e9/91/2ef649137816850fa4f4c97c6f2eabb1a79bf0aa2c8ed198e387e373455e/fsspec-2021.4.0-py3-none-any.whl (108kB)\n",
            "\u001b[K     |████████████████████████████████| 112kB 29.4MB/s \n",
            "\u001b[?25hCollecting aiobotocore>=1.0.1\n",
            "\u001b[?25l  Downloading https://files.pythonhosted.org/packages/21/8e/4562029e179226051cd4aa3135444deb014fc9b0795f80f7f3563745f8d5/aiobotocore-1.3.0.tar.gz (48kB)\n",
            "\u001b[K     |████████████████████████████████| 51kB 5.7MB/s \n",
            "\u001b[?25hRequirement already satisfied: heapdict in /usr/local/lib/python3.7/dist-packages (from zict>=0.1.3->distributed==1.21.6) (1.0.1)\n",
            "Collecting botocore<1.20.50,>=1.20.49\n",
            "\u001b[?25l  Downloading https://files.pythonhosted.org/packages/68/59/6e28ce58206039ad2592992b75ee79a8f9dbc902a9704373ddacc4f96300/botocore-1.20.49-py2.py3-none-any.whl (7.4MB)\n",
            "\u001b[K     |████████████████████████████████| 7.4MB 38.6MB/s \n",
            "\u001b[?25hCollecting aiohttp>=3.3.1\n",
            "\u001b[?25l  Downloading https://files.pythonhosted.org/packages/88/c0/5890b4c8b04a79b7360e8fe4490feb0bb3ab179743f199f0e6220cebd568/aiohttp-3.7.4.post0-cp37-cp37m-manylinux2014_x86_64.whl (1.3MB)\n",
            "\u001b[K     |████████████████████████████████| 1.3MB 43.1MB/s \n",
            "\u001b[?25hRequirement already satisfied: wrapt>=1.10.10 in /usr/local/lib/python3.7/dist-packages (from aiobotocore>=1.0.1->s3fs>=0.1.2->featuretools==0.4.0) (1.12.1)\n",
            "Collecting aioitertools>=0.5.1\n",
            "  Downloading https://files.pythonhosted.org/packages/32/0b/3260ac050de07bf6e91871944583bb8598091da19155c34f7ef02244709c/aioitertools-0.7.1-py3-none-any.whl\n",
            "Collecting urllib3<1.27,>=1.25.4\n",
            "\u001b[?25l  Downloading https://files.pythonhosted.org/packages/09/c6/d3e3abe5b4f4f16cf0dfc9240ab7ce10c2baa0e268989a4e3ec19e90c84e/urllib3-1.26.4-py2.py3-none-any.whl (153kB)\n",
            "\u001b[K     |████████████████████████████████| 153kB 29.1MB/s \n",
            "\u001b[?25hCollecting jmespath<1.0.0,>=0.7.1\n",
            "  Downloading https://files.pythonhosted.org/packages/07/cb/5f001272b6faeb23c1c9e0acc04d48eaaf5c862c17709d20e3469c6e0139/jmespath-0.10.0-py2.py3-none-any.whl\n",
            "Requirement already satisfied: chardet<5.0,>=2.0 in /usr/local/lib/python3.7/dist-packages (from aiohttp>=3.3.1->aiobotocore>=1.0.1->s3fs>=0.1.2->featuretools==0.4.0) (3.0.4)\n",
            "Requirement already satisfied: attrs>=17.3.0 in /usr/local/lib/python3.7/dist-packages (from aiohttp>=3.3.1->aiobotocore>=1.0.1->s3fs>=0.1.2->featuretools==0.4.0) (20.3.0)\n",
            "Collecting async-timeout<4.0,>=3.0\n",
            "  Downloading https://files.pythonhosted.org/packages/e1/1e/5a4441be21b0726c4464f3f23c8b19628372f606755a9d2e46c187e65ec4/async_timeout-3.0.1-py3-none-any.whl\n",
            "Collecting multidict<7.0,>=4.5\n",
            "\u001b[?25l  Downloading https://files.pythonhosted.org/packages/7c/a6/4123b8165acbe773d1a8dc8e3f0d1edea16d29f7de018eda769abb56bd30/multidict-5.1.0-cp37-cp37m-manylinux2014_x86_64.whl (142kB)\n",
            "\u001b[K     |████████████████████████████████| 143kB 46.4MB/s \n",
            "\u001b[?25hCollecting yarl<2.0,>=1.0\n",
            "\u001b[?25l  Downloading https://files.pythonhosted.org/packages/f1/62/046834c5fc998c88ab2ef722f5d42122230a632212c8afa76418324f53ff/yarl-1.6.3-cp37-cp37m-manylinux2014_x86_64.whl (294kB)\n",
            "\u001b[K     |████████████████████████████████| 296kB 44.6MB/s \n",
            "\u001b[?25hRequirement already satisfied: typing-extensions>=3.6.5 in /usr/local/lib/python3.7/dist-packages (from aiohttp>=3.3.1->aiobotocore>=1.0.1->s3fs>=0.1.2->featuretools==0.4.0) (3.7.4.3)\n",
            "Requirement already satisfied: idna>=2.0 in /usr/local/lib/python3.7/dist-packages (from yarl<2.0,>=1.0->aiohttp>=3.3.1->aiobotocore>=1.0.1->s3fs>=0.1.2->featuretools==0.4.0) (2.10)\n",
            "Building wheels for collected packages: featuretools, tornado, msgpack-python, aiobotocore\n",
            "  Building wheel for featuretools (setup.py) ... \u001b[?25l\u001b[?25hdone\n",
            "  Created wheel for featuretools: filename=featuretools-0.4.0-cp37-none-any.whl size=167026 sha256=848fb47bf7a0e74d0077067f3fabedcc20b14c99dc29c469ae8759a2a6ab88ac\n",
            "  Stored in directory: /root/.cache/pip/wheels/a6/c8/9f/f918381b3dab362260a1a566226a2dbacd9af1d6f966950a4d\n",
            "  Building wheel for tornado (setup.py) ... \u001b[?25l\u001b[?25hdone\n",
            "  Created wheel for tornado: filename=tornado-5.0-cp37-cp37m-linux_x86_64.whl size=449144 sha256=f5211a1db287fefcf740884e13921d0f1d15ff2f6701f878bfb09f91aa037b4d\n",
            "  Stored in directory: /root/.cache/pip/wheels/34/fc/01/27b203030e619266c40efa4ad2cc5432e7027743dddc0391ef\n",
            "  Building wheel for msgpack-python (setup.py) ... \u001b[?25l\u001b[?25hdone\n",
            "  Created wheel for msgpack-python: filename=msgpack_python-0.5.6-cp37-cp37m-linux_x86_64.whl size=305481 sha256=f45d4cd2b3952cd0626d5bf331f633de06c428d7bf572b9c8b338a7c98d32620\n",
            "  Stored in directory: /root/.cache/pip/wheels/d5/de/86/7fa56fda12511be47ea0808f3502bc879df4e63ab168ec0406\n",
            "  Building wheel for aiobotocore (setup.py) ... \u001b[?25l\u001b[?25hdone\n",
            "  Created wheel for aiobotocore: filename=aiobotocore-1.3.0-cp37-none-any.whl size=45781 sha256=37ecd8919c08eba8d8085e71b48887e49553429708609419c57ba82a7ca9266a\n",
            "  Stored in directory: /root/.cache/pip/wheels/1d/5b/92/72a47210109971364c619c41e29289d4e7d58269f0cc653bf1\n",
            "Successfully built featuretools tornado msgpack-python aiobotocore\n",
            "\u001b[31mERROR: requests 2.23.0 has requirement urllib3!=1.25.0,!=1.25.1,<1.26,>=1.21.1, but you'll have urllib3 1.26.4 which is incompatible.\u001b[0m\n",
            "\u001b[31mERROR: google-colab 1.0.0 has requirement tornado~=5.1.0; python_version >= \"3.0\", but you'll have tornado 5.0 which is incompatible.\u001b[0m\n",
            "\u001b[31mERROR: datascience 0.10.6 has requirement folium==0.2.1, but you'll have folium 0.8.3 which is incompatible.\u001b[0m\n",
            "\u001b[31mERROR: bokeh 2.3.1 has requirement tornado>=5.1, but you'll have tornado 5.0 which is incompatible.\u001b[0m\n",
            "\u001b[31mERROR: featuretools 0.4.0 has requirement distributed>=1.23.3, but you'll have distributed 1.21.6 which is incompatible.\u001b[0m\n",
            "Installing collected packages: pandas, fsspec, urllib3, jmespath, botocore, async-timeout, multidict, yarl, aiohttp, aioitertools, aiobotocore, s3fs, dask, msgpack-python, tornado, distributed, featuretools\n",
            "  Found existing installation: pandas 1.1.5\n",
            "    Uninstalling pandas-1.1.5:\n",
            "      Successfully uninstalled pandas-1.1.5\n",
            "  Found existing installation: urllib3 1.24.3\n",
            "    Uninstalling urllib3-1.24.3:\n",
            "      Successfully uninstalled urllib3-1.24.3\n",
            "  Found existing installation: dask 2.12.0\n",
            "    Uninstalling dask-2.12.0:\n",
            "      Successfully uninstalled dask-2.12.0\n",
            "  Found existing installation: tornado 5.1.1\n",
            "    Uninstalling tornado-5.1.1:\n",
            "      Successfully uninstalled tornado-5.1.1\n",
            "  Found existing installation: distributed 1.25.3\n",
            "    Uninstalling distributed-1.25.3:\n",
            "      Successfully uninstalled distributed-1.25.3\n",
            "Successfully installed aiobotocore-1.3.0 aiohttp-3.7.4.post0 aioitertools-0.7.1 async-timeout-3.0.1 botocore-1.20.49 dask-0.19.4 distributed-1.21.6 featuretools-0.4.0 fsspec-2021.4.0 jmespath-0.10.0 msgpack-python-0.5.6 multidict-5.1.0 pandas-1.1.1 s3fs-2021.4.0 tornado-5.0 urllib3-1.26.4 yarl-1.6.3\n"
          ],
          "name": "stdout"
        },
        {
          "output_type": "display_data",
          "data": {
            "application/vnd.colab-display-data+json": {
              "pip_warning": {
                "packages": [
                  "pandas",
                  "tornado"
                ]
              }
            }
          },
          "metadata": {
            "tags": []
          }
        }
      ]
    },
    {
      "cell_type": "markdown",
      "metadata": {
        "id": "mxJR26R7dUr3"
      },
      "source": [
        "# Introduction: Automated Feature Engineering with Featuretools\n",
        "\n",
        "__Problem:__ we have a set of cutoff times and labels - in a label times table - and we need to build relevant features for each label using only data from before the cutoff time. Traditionally, we would do this by hand, a painstaking and error prone process that makes developing useable machine learning solutions extremely difficult. \n",
        "\n",
        "__Solution__: Use automated feature engineering as implemented in Featuretools to build hundreds or thousands of relevant features from a relational dataset with a reusable framework that also automatically filters the data based on the cutoff times. This approachs overcomes the limitations of manual feature engineering, letting us buidl better predictive models in a fraction of the time. \n",
        "\n",
        "The general process of feature engineering is shown below:\n",
        "\n",
        "![](https://github.com/springboard-curriculum/featuretools/blob/master/images/feature_engineering_process.png?raw=1)\n",
        "\n",
        "Currently, the only option for automated feature engineering using multiple related tables is [Featuretools](https://github.com/Featuretools/featuretools), an open-source Python library. \n",
        "\n",
        "![](https://github.com/springboard-curriculum/featuretools/blob/master/images/featuretools-logo.png?raw=1)\n",
        "\n",
        "In this notebook, we'll work with Featuretools to develop an automated feature engineering workflow for the customer churn dataset. The end outcome is a function that takes in a dataset and label times for customers and builds a feature matrix that can be used to train a machine learning model. Because we already partitioned the data into independent subsets (in `Partitioning Data`) we'll be able to apply this function to all of the partitions in parallel using Spark with PySpark.\n",
        "\n",
        "## Featuretools Resources\n",
        "\n",
        "We won't spend too much time on the basics of Featuretools here, so refer to the following sources for more information:\n",
        "\n",
        "* [Featuretools Documentation](https://docs.featuretools.com/)\n",
        "* [Featuretools GitHub](https://github.com/Featuretools/featuretools)\n",
        "* [Introductory tutorial on Featuretools](https://towardsdatascience.com/automated-feature-engineering-in-python-99baf11cc219)\n",
        "* [Why Automated Feature Engineering Will Change Machine Learning](https://towardsdatascience.com/why-automated-feature-engineering-will-change-the-way-you-do-machine-learning-5c15bf188b96)\n",
        "\n",
        "The basics are relatively easy to pick up, and if you're new, you can probably follow along with all the code here! Learning Featuretools requires only a few minutes and it can be applied to any relational dataset.\n",
        "\n",
        "\n",
        "With that in mind, let's get started."
      ]
    },
    {
      "cell_type": "code",
      "metadata": {
        "id": "OdfK6CGMdUr6"
      },
      "source": [
        "# Data science helpers\n",
        "import pandas as pd \n",
        "import numpy as np\n",
        "\n",
        "import featuretools as ft\n",
        "\n",
        "# Useful for showing multiple outputs\n",
        "from IPython.core.interactiveshell import InteractiveShell\n",
        "InteractiveShell.ast_node_interactivity = \"all\""
      ],
      "execution_count": 2,
      "outputs": []
    },
    {
      "cell_type": "code",
      "metadata": {
        "id": "HftaylGOdUr7"
      },
      "source": [
        "# Read in all data\n",
        "members = pd.read_csv('https://raw.githubusercontent.com/springboard-curriculum/featuretools/master/data/members.csv', \n",
        "                      parse_dates=['registration_init_time'], \n",
        "                      infer_datetime_format = True, \n",
        "                      dtype = {'gender': 'category'})\n",
        "\n",
        "trans = pd.read_csv('https://raw.githubusercontent.com/springboard-curriculum/featuretools/master/data/transactions.csv',\n",
        "                   parse_dates=['transaction_date', 'membership_expire_date'], \n",
        "                    infer_datetime_format = True)\n",
        "\n",
        "logs = pd.read_csv(f'https://raw.githubusercontent.com/springboard-curriculum/featuretools/master/data/logs.csv', parse_dates = ['date'])\n",
        "\n",
        "cutoff_times = pd.read_csv(f'https://raw.githubusercontent.com/springboard-curriculum/featuretools/master/data/MS-31_labels.csv', parse_dates = ['cutoff_time'])"
      ],
      "execution_count": 4,
      "outputs": []
    },
    {
      "cell_type": "code",
      "metadata": {
        "id": "TeiLIHwneotP",
        "outputId": "c2db0cd3-d57d-46fa-cba9-fe63ebfe7528",
        "colab": {
          "base_uri": "https://localhost:8080/",
          "height": 125
        }
      },
      "source": [
        "trans.head(2)"
      ],
      "execution_count": 5,
      "outputs": [
        {
          "output_type": "execute_result",
          "data": {
            "text/html": [
              "<div>\n",
              "<style scoped>\n",
              "    .dataframe tbody tr th:only-of-type {\n",
              "        vertical-align: middle;\n",
              "    }\n",
              "\n",
              "    .dataframe tbody tr th {\n",
              "        vertical-align: top;\n",
              "    }\n",
              "\n",
              "    .dataframe thead th {\n",
              "        text-align: right;\n",
              "    }\n",
              "</style>\n",
              "<table border=\"1\" class=\"dataframe\">\n",
              "  <thead>\n",
              "    <tr style=\"text-align: right;\">\n",
              "      <th></th>\n",
              "      <th>msno</th>\n",
              "      <th>payment_method_id</th>\n",
              "      <th>payment_plan_days</th>\n",
              "      <th>plan_list_price</th>\n",
              "      <th>actual_amount_paid</th>\n",
              "      <th>is_auto_renew</th>\n",
              "      <th>transaction_date</th>\n",
              "      <th>membership_expire_date</th>\n",
              "      <th>is_cancel</th>\n",
              "    </tr>\n",
              "  </thead>\n",
              "  <tbody>\n",
              "    <tr>\n",
              "      <th>0</th>\n",
              "      <td>5F7G3pHKf5ijGQpoKuko0G7Jm3Bde6ktfPKBZySWoDI=</td>\n",
              "      <td>41</td>\n",
              "      <td>30</td>\n",
              "      <td>99</td>\n",
              "      <td>99</td>\n",
              "      <td>1</td>\n",
              "      <td>2017-02-10</td>\n",
              "      <td>2017-03-10</td>\n",
              "      <td>0</td>\n",
              "    </tr>\n",
              "    <tr>\n",
              "      <th>1</th>\n",
              "      <td>DQMPoCSc6EB39ytgnKCRsUIZnR6ZWSrHeDmX7nbxAKs=</td>\n",
              "      <td>41</td>\n",
              "      <td>30</td>\n",
              "      <td>149</td>\n",
              "      <td>149</td>\n",
              "      <td>1</td>\n",
              "      <td>2016-02-01</td>\n",
              "      <td>2016-03-02</td>\n",
              "      <td>0</td>\n",
              "    </tr>\n",
              "  </tbody>\n",
              "</table>\n",
              "</div>"
            ],
            "text/plain": [
              "                                           msno  ...  is_cancel\n",
              "0  5F7G3pHKf5ijGQpoKuko0G7Jm3Bde6ktfPKBZySWoDI=  ...          0\n",
              "1  DQMPoCSc6EB39ytgnKCRsUIZnR6ZWSrHeDmX7nbxAKs=  ...          0\n",
              "\n",
              "[2 rows x 9 columns]"
            ]
          },
          "metadata": {
            "tags": []
          },
          "execution_count": 5
        }
      ]
    },
    {
      "cell_type": "code",
      "metadata": {
        "id": "Y1sI9crkeo_h",
        "outputId": "7b3f93ac-e21f-4613-e2b4-d3b9d3b8b34d",
        "colab": {
          "base_uri": "https://localhost:8080/",
          "height": 105
        }
      },
      "source": [
        "logs.head(2)"
      ],
      "execution_count": 6,
      "outputs": [
        {
          "output_type": "execute_result",
          "data": {
            "text/html": [
              "<div>\n",
              "<style scoped>\n",
              "    .dataframe tbody tr th:only-of-type {\n",
              "        vertical-align: middle;\n",
              "    }\n",
              "\n",
              "    .dataframe tbody tr th {\n",
              "        vertical-align: top;\n",
              "    }\n",
              "\n",
              "    .dataframe thead th {\n",
              "        text-align: right;\n",
              "    }\n",
              "</style>\n",
              "<table border=\"1\" class=\"dataframe\">\n",
              "  <thead>\n",
              "    <tr style=\"text-align: right;\">\n",
              "      <th></th>\n",
              "      <th>msno</th>\n",
              "      <th>date</th>\n",
              "      <th>num_25</th>\n",
              "      <th>num_50</th>\n",
              "      <th>num_75</th>\n",
              "      <th>num_985</th>\n",
              "      <th>num_100</th>\n",
              "      <th>num_unq</th>\n",
              "      <th>total_secs</th>\n",
              "    </tr>\n",
              "  </thead>\n",
              "  <tbody>\n",
              "    <tr>\n",
              "      <th>0</th>\n",
              "      <td>6+/V1NwBbqjBOCvRSDueeJZ58F4DY7h7fG6fSZtHaAE=</td>\n",
              "      <td>2017-03-04</td>\n",
              "      <td>29</td>\n",
              "      <td>28</td>\n",
              "      <td>18</td>\n",
              "      <td>11</td>\n",
              "      <td>111</td>\n",
              "      <td>79</td>\n",
              "      <td>34727.142</td>\n",
              "    </tr>\n",
              "    <tr>\n",
              "      <th>1</th>\n",
              "      <td>E2aBGFTKR6jzp+1knh7JOOF39gLuu+CoZMWaAL/DA0M=</td>\n",
              "      <td>2017-03-27</td>\n",
              "      <td>1</td>\n",
              "      <td>0</td>\n",
              "      <td>2</td>\n",
              "      <td>0</td>\n",
              "      <td>184</td>\n",
              "      <td>173</td>\n",
              "      <td>33408.719</td>\n",
              "    </tr>\n",
              "  </tbody>\n",
              "</table>\n",
              "</div>"
            ],
            "text/plain": [
              "                                           msno       date  ...  num_unq  total_secs\n",
              "0  6+/V1NwBbqjBOCvRSDueeJZ58F4DY7h7fG6fSZtHaAE= 2017-03-04  ...       79   34727.142\n",
              "1  E2aBGFTKR6jzp+1knh7JOOF39gLuu+CoZMWaAL/DA0M= 2017-03-27  ...      173   33408.719\n",
              "\n",
              "[2 rows x 9 columns]"
            ]
          },
          "metadata": {
            "tags": []
          },
          "execution_count": 6
        }
      ]
    },
    {
      "cell_type": "code",
      "metadata": {
        "id": "WL4P2qYNepT1",
        "outputId": "24c07304-973a-46d6-c278-88ab3279bcc2",
        "colab": {
          "base_uri": "https://localhost:8080/",
          "height": 105
        }
      },
      "source": [
        "cutoff_times.head(2)"
      ],
      "execution_count": 7,
      "outputs": [
        {
          "output_type": "execute_result",
          "data": {
            "text/html": [
              "<div>\n",
              "<style scoped>\n",
              "    .dataframe tbody tr th:only-of-type {\n",
              "        vertical-align: middle;\n",
              "    }\n",
              "\n",
              "    .dataframe tbody tr th {\n",
              "        vertical-align: top;\n",
              "    }\n",
              "\n",
              "    .dataframe thead th {\n",
              "        text-align: right;\n",
              "    }\n",
              "</style>\n",
              "<table border=\"1\" class=\"dataframe\">\n",
              "  <thead>\n",
              "    <tr style=\"text-align: right;\">\n",
              "      <th></th>\n",
              "      <th>msno</th>\n",
              "      <th>cutoff_time</th>\n",
              "      <th>label</th>\n",
              "      <th>days_to_churn</th>\n",
              "      <th>churn_date</th>\n",
              "    </tr>\n",
              "  </thead>\n",
              "  <tbody>\n",
              "    <tr>\n",
              "      <th>0</th>\n",
              "      <td>++bK0FRJecXCogqXdjtO2Kyb3jq7uLM7qThTk+nN8tE=</td>\n",
              "      <td>2015-08-01</td>\n",
              "      <td>0.0</td>\n",
              "      <td>NaN</td>\n",
              "      <td>NaN</td>\n",
              "    </tr>\n",
              "    <tr>\n",
              "      <th>1</th>\n",
              "      <td>++bK0FRJecXCogqXdjtO2Kyb3jq7uLM7qThTk+nN8tE=</td>\n",
              "      <td>2015-09-01</td>\n",
              "      <td>0.0</td>\n",
              "      <td>NaN</td>\n",
              "      <td>NaN</td>\n",
              "    </tr>\n",
              "  </tbody>\n",
              "</table>\n",
              "</div>"
            ],
            "text/plain": [
              "                                           msno  ... churn_date\n",
              "0  ++bK0FRJecXCogqXdjtO2Kyb3jq7uLM7qThTk+nN8tE=  ...        NaN\n",
              "1  ++bK0FRJecXCogqXdjtO2Kyb3jq7uLM7qThTk+nN8tE=  ...        NaN\n",
              "\n",
              "[2 rows x 5 columns]"
            ]
          },
          "metadata": {
            "tags": []
          },
          "execution_count": 7
        }
      ]
    },
    {
      "cell_type": "markdown",
      "metadata": {
        "id": "y9mBwh_7dUr8"
      },
      "source": [
        "The 3 data tables are represented by the following schema. \n",
        "\n",
        "![](https://github.com/springboard-curriculum/featuretools/blob/master/images/data_schema.png?raw=1)\n",
        "\n",
        "This schema is all the domain knowledge needed to perform automated feature engineering in Featuretools."
      ]
    },
    {
      "cell_type": "markdown",
      "metadata": {
        "id": "mMIEu6iXdUr-"
      },
      "source": [
        "# Define Entities and EntitySet\n",
        "\n",
        "The first step in using Featuretools is to make an `EntitySet` and add all the `entitys` - tables - to it. An EntitySet is a data structure that holds the tables and the relationships between them. This makes it easier to keep track of all the data in a problem with multiple relational tables."
      ]
    },
    {
      "cell_type": "code",
      "metadata": {
        "id": "MiEYLA_kdUr_"
      },
      "source": [
        "import featuretools.variable_types as vtypes\n",
        "\n",
        "# Make empty entityset\n",
        "es = ft.EntitySet(id = 'customers')"
      ],
      "execution_count": 8,
      "outputs": []
    },
    {
      "cell_type": "markdown",
      "metadata": {
        "id": "QGPxqHwbdUsA"
      },
      "source": [
        "## Entities\n",
        "\n",
        "When creating entities from a dataframe, we need to make sure to include:\n",
        "\n",
        "* The `index` if there is one or a name for the created index. This is a unique identifier for each observation.\n",
        "* `make_index = True` if there is no index, we need to supply a name under `index` and set this to `True`.\n",
        "* A `time_index` if present. This is the time at which the information in the row becomes known. Featuretools will use the `time_index` and the `cutoff_time` to make valid features for each label.\n",
        "* `variable_types`. In some cases our data will have variables for which we should specify the type. An example would be a boolean that is represented as a float. This prevents Featuretools from making features such as the `min` or `max` of a True/False varaibles.\n",
        "\n",
        "For this problem these are the only arguments we'll need. There are additional arguments that can be used as shown in [the documentation](https://docs.featuretools.com/api_reference.html#entityset-entity-relationship-variable-types). \n",
        "\n",
        "### Members Table\n",
        "\n",
        "The `members` table holds basic information about each customer. The important point for this table is to specify that the `city` and `registered_via` columns are discrete, categorical variables and not numerical and that `registration_init_time` is the `time_index`. The `msno` is the unique index identifying each customer. "
      ]
    },
    {
      "cell_type": "code",
      "metadata": {
        "colab": {
          "base_uri": "https://localhost:8080/",
          "height": 191
        },
        "id": "ADYNsl5kdUsC",
        "outputId": "442bc7c4-851b-4590-986c-18dab18d4506"
      },
      "source": [
        "members.head()"
      ],
      "execution_count": 9,
      "outputs": [
        {
          "output_type": "execute_result",
          "data": {
            "text/html": [
              "<div>\n",
              "<style scoped>\n",
              "    .dataframe tbody tr th:only-of-type {\n",
              "        vertical-align: middle;\n",
              "    }\n",
              "\n",
              "    .dataframe tbody tr th {\n",
              "        vertical-align: top;\n",
              "    }\n",
              "\n",
              "    .dataframe thead th {\n",
              "        text-align: right;\n",
              "    }\n",
              "</style>\n",
              "<table border=\"1\" class=\"dataframe\">\n",
              "  <thead>\n",
              "    <tr style=\"text-align: right;\">\n",
              "      <th></th>\n",
              "      <th>msno</th>\n",
              "      <th>city</th>\n",
              "      <th>bd</th>\n",
              "      <th>gender</th>\n",
              "      <th>registered_via</th>\n",
              "      <th>registration_init_time</th>\n",
              "    </tr>\n",
              "  </thead>\n",
              "  <tbody>\n",
              "    <tr>\n",
              "      <th>0</th>\n",
              "      <td>8hW4+CV3D1oNM0CIsA39YljsF8M3m7g1LAX6AQd3C8I=</td>\n",
              "      <td>4</td>\n",
              "      <td>24</td>\n",
              "      <td>male</td>\n",
              "      <td>3</td>\n",
              "      <td>2014-11-04</td>\n",
              "    </tr>\n",
              "    <tr>\n",
              "      <th>1</th>\n",
              "      <td>yhcODfebyTYezE6KAPklcV1us9zdOYJ+7eHS7f/xgoU=</td>\n",
              "      <td>8</td>\n",
              "      <td>37</td>\n",
              "      <td>male</td>\n",
              "      <td>9</td>\n",
              "      <td>2007-02-11</td>\n",
              "    </tr>\n",
              "    <tr>\n",
              "      <th>2</th>\n",
              "      <td>sBlgSL0AIq49XsmBQ2KceKZNUyIxT1BwSkN/xYQLGMc=</td>\n",
              "      <td>15</td>\n",
              "      <td>21</td>\n",
              "      <td>male</td>\n",
              "      <td>3</td>\n",
              "      <td>2013-02-08</td>\n",
              "    </tr>\n",
              "    <tr>\n",
              "      <th>3</th>\n",
              "      <td>Xy3Au8sZKlEeHBQ+C7ro8Ni3X/dxgrtmx0Tt+jqM1zY=</td>\n",
              "      <td>1</td>\n",
              "      <td>0</td>\n",
              "      <td>NaN</td>\n",
              "      <td>9</td>\n",
              "      <td>2015-02-01</td>\n",
              "    </tr>\n",
              "    <tr>\n",
              "      <th>4</th>\n",
              "      <td>NiCu2GVWgT5QZbI85oYRBEDqHUZbzz2azS48jvM+khg=</td>\n",
              "      <td>12</td>\n",
              "      <td>21</td>\n",
              "      <td>male</td>\n",
              "      <td>3</td>\n",
              "      <td>2015-02-12</td>\n",
              "    </tr>\n",
              "  </tbody>\n",
              "</table>\n",
              "</div>"
            ],
            "text/plain": [
              "                                           msno  ...  registration_init_time\n",
              "0  8hW4+CV3D1oNM0CIsA39YljsF8M3m7g1LAX6AQd3C8I=  ...              2014-11-04\n",
              "1  yhcODfebyTYezE6KAPklcV1us9zdOYJ+7eHS7f/xgoU=  ...              2007-02-11\n",
              "2  sBlgSL0AIq49XsmBQ2KceKZNUyIxT1BwSkN/xYQLGMc=  ...              2013-02-08\n",
              "3  Xy3Au8sZKlEeHBQ+C7ro8Ni3X/dxgrtmx0Tt+jqM1zY=  ...              2015-02-01\n",
              "4  NiCu2GVWgT5QZbI85oYRBEDqHUZbzz2azS48jvM+khg=  ...              2015-02-12\n",
              "\n",
              "[5 rows x 6 columns]"
            ]
          },
          "metadata": {
            "tags": []
          },
          "execution_count": 9
        }
      ]
    },
    {
      "cell_type": "code",
      "metadata": {
        "colab": {
          "base_uri": "https://localhost:8080/"
        },
        "id": "VSXavr0FdUsG",
        "outputId": "a0771deb-ad0e-4a56-aeed-10bc6946b492"
      },
      "source": [
        "members['msno'].is_unique"
      ],
      "execution_count": 10,
      "outputs": [
        {
          "output_type": "execute_result",
          "data": {
            "text/plain": [
              "True"
            ]
          },
          "metadata": {
            "tags": []
          },
          "execution_count": 10
        }
      ]
    },
    {
      "cell_type": "code",
      "metadata": {
        "colab": {
          "base_uri": "https://localhost:8080/"
        },
        "id": "6ezwCcDIdUsI",
        "outputId": "11e365c7-7efa-4cf8-da34-d1f85e7bb08d"
      },
      "source": [
        "# Create entity from members\n",
        "es.entity_from_dataframe(entity_id='members', dataframe=members,\n",
        "                         index = 'msno', time_index = 'registration_init_time', \n",
        "                         variable_types = {'city': vtypes.Categorical, \n",
        "                                           'registered_via': vtypes.Categorical})"
      ],
      "execution_count": 11,
      "outputs": [
        {
          "output_type": "execute_result",
          "data": {
            "text/plain": [
              "Entityset: customers\n",
              "  Entities:\n",
              "    members [Rows: 6658, Columns: 6]\n",
              "  Relationships:\n",
              "    No relationships"
            ]
          },
          "metadata": {
            "tags": []
          },
          "execution_count": 11
        }
      ]
    },
    {
      "cell_type": "markdown",
      "metadata": {
        "id": "Biy24y5ndUsJ"
      },
      "source": [
        "### Transactions Table\n",
        "\n",
        "The transactions table contains payments made by the customers. Each row records one payment. "
      ]
    },
    {
      "cell_type": "code",
      "metadata": {
        "colab": {
          "base_uri": "https://localhost:8080/",
          "height": 211
        },
        "id": "W7w1FXaKdUsK",
        "outputId": "4fa93070-e411-4de0-d522-b78a29303acf"
      },
      "source": [
        "trans.head()"
      ],
      "execution_count": 13,
      "outputs": [
        {
          "output_type": "execute_result",
          "data": {
            "text/html": [
              "<div>\n",
              "<style scoped>\n",
              "    .dataframe tbody tr th:only-of-type {\n",
              "        vertical-align: middle;\n",
              "    }\n",
              "\n",
              "    .dataframe tbody tr th {\n",
              "        vertical-align: top;\n",
              "    }\n",
              "\n",
              "    .dataframe thead th {\n",
              "        text-align: right;\n",
              "    }\n",
              "</style>\n",
              "<table border=\"1\" class=\"dataframe\">\n",
              "  <thead>\n",
              "    <tr style=\"text-align: right;\">\n",
              "      <th></th>\n",
              "      <th>msno</th>\n",
              "      <th>payment_method_id</th>\n",
              "      <th>payment_plan_days</th>\n",
              "      <th>plan_list_price</th>\n",
              "      <th>actual_amount_paid</th>\n",
              "      <th>is_auto_renew</th>\n",
              "      <th>transaction_date</th>\n",
              "      <th>membership_expire_date</th>\n",
              "      <th>is_cancel</th>\n",
              "      <th>price_difference</th>\n",
              "      <th>planned_daily_price</th>\n",
              "      <th>daily_price</th>\n",
              "    </tr>\n",
              "  </thead>\n",
              "  <tbody>\n",
              "    <tr>\n",
              "      <th>0</th>\n",
              "      <td>5F7G3pHKf5ijGQpoKuko0G7Jm3Bde6ktfPKBZySWoDI=</td>\n",
              "      <td>41</td>\n",
              "      <td>30</td>\n",
              "      <td>99</td>\n",
              "      <td>99</td>\n",
              "      <td>1</td>\n",
              "      <td>2017-02-10</td>\n",
              "      <td>2017-03-10</td>\n",
              "      <td>0</td>\n",
              "      <td>0</td>\n",
              "      <td>3.300000</td>\n",
              "      <td>3.300000</td>\n",
              "    </tr>\n",
              "    <tr>\n",
              "      <th>1</th>\n",
              "      <td>DQMPoCSc6EB39ytgnKCRsUIZnR6ZWSrHeDmX7nbxAKs=</td>\n",
              "      <td>41</td>\n",
              "      <td>30</td>\n",
              "      <td>149</td>\n",
              "      <td>149</td>\n",
              "      <td>1</td>\n",
              "      <td>2016-02-01</td>\n",
              "      <td>2016-03-02</td>\n",
              "      <td>0</td>\n",
              "      <td>0</td>\n",
              "      <td>4.966667</td>\n",
              "      <td>4.966667</td>\n",
              "    </tr>\n",
              "    <tr>\n",
              "      <th>2</th>\n",
              "      <td>Lrais3nsgqYwpfpSoyK3fHuPutf6cloTI5T5dQfs4lA=</td>\n",
              "      <td>38</td>\n",
              "      <td>30</td>\n",
              "      <td>149</td>\n",
              "      <td>149</td>\n",
              "      <td>0</td>\n",
              "      <td>2016-02-23</td>\n",
              "      <td>2016-04-23</td>\n",
              "      <td>0</td>\n",
              "      <td>0</td>\n",
              "      <td>4.966667</td>\n",
              "      <td>4.966667</td>\n",
              "    </tr>\n",
              "    <tr>\n",
              "      <th>3</th>\n",
              "      <td>ZPOjgxQw1/J7v5xgBJTCLXWuwq5Xmk33nO6AoUO1+mY=</td>\n",
              "      <td>41</td>\n",
              "      <td>30</td>\n",
              "      <td>149</td>\n",
              "      <td>119</td>\n",
              "      <td>1</td>\n",
              "      <td>2015-09-06</td>\n",
              "      <td>2016-08-01</td>\n",
              "      <td>0</td>\n",
              "      <td>30</td>\n",
              "      <td>4.966667</td>\n",
              "      <td>3.966667</td>\n",
              "    </tr>\n",
              "    <tr>\n",
              "      <th>4</th>\n",
              "      <td>MvR23u4bIiWM+U+VE1Mvw3qqdj/0Ixs1sf7avavjhRs=</td>\n",
              "      <td>38</td>\n",
              "      <td>30</td>\n",
              "      <td>149</td>\n",
              "      <td>149</td>\n",
              "      <td>0</td>\n",
              "      <td>2016-10-28</td>\n",
              "      <td>2016-11-27</td>\n",
              "      <td>0</td>\n",
              "      <td>0</td>\n",
              "      <td>4.966667</td>\n",
              "      <td>4.966667</td>\n",
              "    </tr>\n",
              "  </tbody>\n",
              "</table>\n",
              "</div>"
            ],
            "text/plain": [
              "                                           msno  ...  daily_price\n",
              "0  5F7G3pHKf5ijGQpoKuko0G7Jm3Bde6ktfPKBZySWoDI=  ...     3.300000\n",
              "1  DQMPoCSc6EB39ytgnKCRsUIZnR6ZWSrHeDmX7nbxAKs=  ...     4.966667\n",
              "2  Lrais3nsgqYwpfpSoyK3fHuPutf6cloTI5T5dQfs4lA=  ...     4.966667\n",
              "3  ZPOjgxQw1/J7v5xgBJTCLXWuwq5Xmk33nO6AoUO1+mY=  ...     3.966667\n",
              "4  MvR23u4bIiWM+U+VE1Mvw3qqdj/0Ixs1sf7avavjhRs=  ...     4.966667\n",
              "\n",
              "[5 rows x 12 columns]"
            ]
          },
          "metadata": {
            "tags": []
          },
          "execution_count": 13
        }
      ]
    },
    {
      "cell_type": "code",
      "metadata": {
        "colab": {
          "base_uri": "https://localhost:8080/",
          "height": 418
        },
        "id": "Yq9S7A2adUsL",
        "outputId": "d73195e6-9a9e-452b-b85e-bfab28b11c40"
      },
      "source": [
        "import matplotlib.pyplot as plt\n",
        "%matplotlib inline\n",
        "plt.style.use('fivethirtyeight')\n",
        "plt.rcParams['figure.figsize'] = (10, 6)\n",
        "\n",
        "trans.loc[trans['actual_amount_paid'] < 250, 'actual_amount_paid'].dropna().plot.hist(bins = 30);\n",
        "plt.title('Distribution of Actual Amount Paid');"
      ],
      "execution_count": 14,
      "outputs": [
        {
          "output_type": "display_data",
          "data": {
            "image/png": "[encoded data removed]",
            "text/plain": [
              "<Figure size 720x432 with 1 Axes>"
            ]
          },
          "metadata": {
            "tags": []
          }
        }
      ]
    },
    {
      "cell_type": "markdown",
      "metadata": {
        "id": "GQnHHZLydUsN"
      },
      "source": [
        "#### Domain Knowledge Features\n",
        "\n",
        "Before creating the entity from this dataframe, we can create a few new variables based on domain knowledge. Just because we are automatically going to make hundreds of features doesn't mean we can't use our own expertise. Featuretools will build on top of our knowledge by stacking more primitives on top of any variables that we define."
      ]
    },
    {
      "cell_type": "code",
      "metadata": {
        "colab": {
          "base_uri": "https://localhost:8080/",
          "height": 418
        },
        "id": "Jr1uR0qRdUsO",
        "outputId": "ad8fecc3-aa20-4c13-aeaf-a464265fdd67"
      },
      "source": [
        "# Difference between listing price and price paid\n",
        "trans['price_difference'] = trans['plan_list_price'] - trans['actual_amount_paid']\n",
        "\n",
        "# Planned price per day\n",
        "trans['planned_daily_price'] = trans['plan_list_price'] / trans['payment_plan_days']\n",
        "\n",
        "# Actual price per day\n",
        "trans['daily_price'] = trans['actual_amount_paid'] / trans['payment_plan_days']\n",
        "\n",
        "trans.loc[trans['price_difference'] > 0, 'price_difference'].plot.hist(bins = 30, \n",
        "                                                                       figsize = (8, 6));\n",
        "plt.title('Dfiference between List Price and Price Paid');"
      ],
      "execution_count": 15,
      "outputs": [
        {
          "output_type": "display_data",
          "data": {
            "image/png": "[encoded data removed]",
            "text/plain": [
              "<Figure size 576x432 with 1 Axes>"
            ]
          },
          "metadata": {
            "tags": []
          }
        }
      ]
    },
    {
      "cell_type": "markdown",
      "metadata": {
        "id": "KwXEBdpBdUsP"
      },
      "source": [
        "There is no `index` in this dataframe so we have to specify to make an index and pass in a name. There is a `time_index`, the time of the transaction, which will be critical when filtering data based on cutoff times to make features. Again, we also need to specify several variable types.\n",
        "\n",
        "There is one slight anomaly with the transactions where some membership expire dates are after the transactions date, so we will filter those out."
      ]
    },
    {
      "cell_type": "code",
      "metadata": {
        "id": "D-mVGI9jdUsQ"
      },
      "source": [
        "# Filter anomalies\n",
        "trans = trans[trans['membership_expire_date'] > trans['transaction_date']]"
      ],
      "execution_count": 22,
      "outputs": []
    },
    {
      "cell_type": "code",
      "metadata": {
        "colab": {
          "base_uri": "https://localhost:8080/"
        },
        "id": "1o207ySPdUsR",
        "outputId": "a022432f-e9c5-4ec1-8f17-2021cf52fb52"
      },
      "source": [
        "# Create entity from transactions\n",
        "es.entity_from_dataframe(entity_id='transactions', dataframe=trans,\n",
        "                         index = 'transactions_index', make_index = True,\n",
        "                         time_index = 'transaction_date', \n",
        "                         variable_types = {'payment_method_id': vtypes.Categorical, \n",
        "                                           'is_auto_renew': vtypes.Boolean, 'is_cancel': vtypes.Boolean})"
      ],
      "execution_count": 23,
      "outputs": [
        {
          "output_type": "execute_result",
          "data": {
            "text/plain": [
              "Entityset: customers\n",
              "  Entities:\n",
              "    members [Rows: 6658, Columns: 6]\n",
              "    transactions [Rows: 22329, Columns: 13]\n",
              "    logs [Rows: 424252, Columns: 14]\n",
              "  Relationships:\n",
              "    No relationships"
            ]
          },
          "metadata": {
            "tags": []
          },
          "execution_count": 23
        }
      ]
    },
    {
      "cell_type": "markdown",
      "metadata": {
        "id": "1jAiDvRAdUsT"
      },
      "source": [
        "### Logs\n",
        "\n",
        "The `logs` contain user listening behavior. As before we'll make a few domain knowledge columns before adding to the `EntitySet`. "
      ]
    },
    {
      "cell_type": "code",
      "metadata": {
        "colab": {
          "base_uri": "https://localhost:8080/",
          "height": 292
        },
        "id": "tyLc0PGYdUsW",
        "outputId": "81449188-4ec6-4ae8-c012-144aac722a3d"
      },
      "source": [
        "logs.head()"
      ],
      "execution_count": 24,
      "outputs": [
        {
          "output_type": "execute_result",
          "data": {
            "text/html": [
              "<div>\n",
              "<style scoped>\n",
              "    .dataframe tbody tr th:only-of-type {\n",
              "        vertical-align: middle;\n",
              "    }\n",
              "\n",
              "    .dataframe tbody tr th {\n",
              "        vertical-align: top;\n",
              "    }\n",
              "\n",
              "    .dataframe thead th {\n",
              "        text-align: right;\n",
              "    }\n",
              "</style>\n",
              "<table border=\"1\" class=\"dataframe\">\n",
              "  <thead>\n",
              "    <tr style=\"text-align: right;\">\n",
              "      <th></th>\n",
              "      <th>msno</th>\n",
              "      <th>date</th>\n",
              "      <th>num_25</th>\n",
              "      <th>num_50</th>\n",
              "      <th>num_75</th>\n",
              "      <th>num_985</th>\n",
              "      <th>num_100</th>\n",
              "      <th>num_unq</th>\n",
              "      <th>total_secs</th>\n",
              "      <th>total</th>\n",
              "      <th>percent_100</th>\n",
              "      <th>percent_unique</th>\n",
              "      <th>seconds_per_song</th>\n",
              "    </tr>\n",
              "  </thead>\n",
              "  <tbody>\n",
              "    <tr>\n",
              "      <th>0</th>\n",
              "      <td>6+/V1NwBbqjBOCvRSDueeJZ58F4DY7h7fG6fSZtHaAE=</td>\n",
              "      <td>2017-03-04</td>\n",
              "      <td>29</td>\n",
              "      <td>28</td>\n",
              "      <td>18</td>\n",
              "      <td>11</td>\n",
              "      <td>111</td>\n",
              "      <td>79</td>\n",
              "      <td>34727.142</td>\n",
              "      <td>197</td>\n",
              "      <td>0.563452</td>\n",
              "      <td>0.401015</td>\n",
              "      <td>176.279909</td>\n",
              "    </tr>\n",
              "    <tr>\n",
              "      <th>1</th>\n",
              "      <td>E2aBGFTKR6jzp+1knh7JOOF39gLuu+CoZMWaAL/DA0M=</td>\n",
              "      <td>2017-03-27</td>\n",
              "      <td>1</td>\n",
              "      <td>0</td>\n",
              "      <td>2</td>\n",
              "      <td>0</td>\n",
              "      <td>184</td>\n",
              "      <td>173</td>\n",
              "      <td>33408.719</td>\n",
              "      <td>187</td>\n",
              "      <td>0.983957</td>\n",
              "      <td>0.925134</td>\n",
              "      <td>178.656251</td>\n",
              "    </tr>\n",
              "    <tr>\n",
              "      <th>2</th>\n",
              "      <td>g7exJzakJlHXwzUydnShY5w24WXSwJyS6QqgoFeyr7g=</td>\n",
              "      <td>2017-03-15</td>\n",
              "      <td>0</td>\n",
              "      <td>0</td>\n",
              "      <td>0</td>\n",
              "      <td>0</td>\n",
              "      <td>21</td>\n",
              "      <td>21</td>\n",
              "      <td>4951.000</td>\n",
              "      <td>21</td>\n",
              "      <td>1.000000</td>\n",
              "      <td>1.000000</td>\n",
              "      <td>235.761905</td>\n",
              "    </tr>\n",
              "    <tr>\n",
              "      <th>3</th>\n",
              "      <td>X+i9OmM3P42cETt5gPkOnz8vXGViQL5/M/NMiMQ+Olc=</td>\n",
              "      <td>2017-03-13</td>\n",
              "      <td>3</td>\n",
              "      <td>1</td>\n",
              "      <td>0</td>\n",
              "      <td>0</td>\n",
              "      <td>33</td>\n",
              "      <td>27</td>\n",
              "      <td>8755.599</td>\n",
              "      <td>37</td>\n",
              "      <td>0.891892</td>\n",
              "      <td>0.729730</td>\n",
              "      <td>236.637811</td>\n",
              "    </tr>\n",
              "    <tr>\n",
              "      <th>4</th>\n",
              "      <td>tbl8blAVl6j4A8zW1Gnyg78Hc0LAQzzcYesmzgJ7ofs=</td>\n",
              "      <td>2017-03-27</td>\n",
              "      <td>6</td>\n",
              "      <td>5</td>\n",
              "      <td>0</td>\n",
              "      <td>0</td>\n",
              "      <td>2</td>\n",
              "      <td>6</td>\n",
              "      <td>1035.853</td>\n",
              "      <td>13</td>\n",
              "      <td>0.153846</td>\n",
              "      <td>0.461538</td>\n",
              "      <td>79.681000</td>\n",
              "    </tr>\n",
              "  </tbody>\n",
              "</table>\n",
              "</div>"
            ],
            "text/plain": [
              "                                           msno  ... seconds_per_song\n",
              "0  6+/V1NwBbqjBOCvRSDueeJZ58F4DY7h7fG6fSZtHaAE=  ...       176.279909\n",
              "1  E2aBGFTKR6jzp+1knh7JOOF39gLuu+CoZMWaAL/DA0M=  ...       178.656251\n",
              "2  g7exJzakJlHXwzUydnShY5w24WXSwJyS6QqgoFeyr7g=  ...       235.761905\n",
              "3  X+i9OmM3P42cETt5gPkOnz8vXGViQL5/M/NMiMQ+Olc=  ...       236.637811\n",
              "4  tbl8blAVl6j4A8zW1Gnyg78Hc0LAQzzcYesmzgJ7ofs=  ...        79.681000\n",
              "\n",
              "[5 rows x 13 columns]"
            ]
          },
          "metadata": {
            "tags": []
          },
          "execution_count": 24
        }
      ]
    },
    {
      "cell_type": "code",
      "metadata": {
        "colab": {
          "base_uri": "https://localhost:8080/",
          "height": 441
        },
        "id": "28Y7FAjIdUsX",
        "outputId": "9fa6f49d-9e5d-4f5b-9df7-2da4e66c085d"
      },
      "source": [
        "# Make a few features by hand\n",
        "logs['total'] = logs[['num_25', 'num_50', 'num_75', 'num_985', 'num_100']].sum(axis = 1)\n",
        "logs['percent_100'] = logs['num_100'] / logs['total']\n",
        "logs['percent_unique'] = logs['num_unq'] / logs['total']\n",
        "logs['seconds_per_song'] = logs['total_secs'] / logs['total'] \n",
        "\n",
        "import seaborn as sns\n",
        "\n",
        "sns.kdeplot(logs['total']);\n",
        "plt.title('Distribution of Total Number of Songs');"
      ],
      "execution_count": 28,
      "outputs": [
        {
          "output_type": "display_data",
          "data": {
            "image/png": "[encoded data removed]",
            "text/plain": [
              "<Figure size 720x432 with 1 Axes>"
            ]
          },
          "metadata": {
            "tags": []
          }
        }
      ]
    },
    {
      "cell_type": "code",
      "metadata": {
        "colab": {
          "base_uri": "https://localhost:8080/",
          "height": 441
        },
        "id": "2y0fAFBgdUsZ",
        "outputId": "d4ce6d1a-d679-4692-9b8d-5945dfbd44a2"
      },
      "source": [
        "sns.kdeplot(logs['percent_100']);\n",
        "plt.title('Distribution of Percentage of Songs Listened to Completion');"
      ],
      "execution_count": 29,
      "outputs": [
        {
          "output_type": "display_data",
          "data": {
            "image/png": "[encoded data removed]",
            "text/plain": [
              "<Figure size 720x432 with 1 Axes>"
            ]
          },
          "metadata": {
            "tags": []
          }
        }
      ]
    },
    {
      "cell_type": "markdown",
      "metadata": {
        "id": "mrwe2IRHdUsa"
      },
      "source": [
        "There is `time_index` in the logs although no `index` present."
      ]
    },
    {
      "cell_type": "code",
      "metadata": {
        "colab": {
          "base_uri": "https://localhost:8080/"
        },
        "id": "owzsSaVzdUsb",
        "outputId": "a1b6aec7-6b2c-41ec-fc05-fd19a4e71286"
      },
      "source": [
        "es.entity_from_dataframe(entity_id='logs', dataframe=logs,\n",
        "                         index = 'logs_index', make_index = True,\n",
        "                         time_index = 'date')"
      ],
      "execution_count": 30,
      "outputs": [
        {
          "output_type": "execute_result",
          "data": {
            "text/plain": [
              "Entityset: customers\n",
              "  Entities:\n",
              "    members [Rows: 6658, Columns: 6]\n",
              "    transactions [Rows: 22329, Columns: 13]\n",
              "    logs [Rows: 424252, Columns: 14]\n",
              "  Relationships:\n",
              "    No relationships"
            ]
          },
          "metadata": {
            "tags": []
          },
          "execution_count": 30
        }
      ]
    },
    {
      "cell_type": "markdown",
      "metadata": {
        "id": "R_47M3fxdUsc"
      },
      "source": [
        "Making features by hand may seem counterintuitive if we are using automated feature engineering, but the benefits of doing this before using Featuretools is that these features can be stacked on top of to build deep features. Automated feature engineering will therefore take our existing hand-built features and extract more value from them by combining them with other features.\n",
        "\n",
        "Another method to improve the power of deep feature synthesis is through interesting values, which specify conditional statements used to build features."
      ]
    },
    {
      "cell_type": "markdown",
      "metadata": {
        "id": "kG4E9V6LdUsd"
      },
      "source": [
        "### Interesting Values\n",
        "\n",
        "In order to create conditional features, we can set interesting values for existing columns in the data. The following code will be used to build features conditional on the value of `is_cancel` and `is_auto_renew` in the transactions data. The primitives used for the conditional features are specified as `where_primitives` in the call to Deep Feature Synthesis. For example, if we used a `mean` primitive along with the following interesting values, we will get a mean of transactions where the transaction was cancelled, as well as the mean of transactions where the transaction was not cancelled. "
      ]
    },
    {
      "cell_type": "code",
      "metadata": {
        "id": "wTheyaLPdUse"
      },
      "source": [
        "es['transactions']['is_cancel'].interesting_values = [0, 1]\n",
        "es['transactions']['is_auto_renew'].interesting_values = [0, 1]"
      ],
      "execution_count": 31,
      "outputs": []
    },
    {
      "cell_type": "markdown",
      "metadata": {
        "id": "o5ABvJUydUsf"
      },
      "source": [
        "# Relationships\n",
        "\n",
        "Table relationships should be familiar to anyone who has worked with relational databases and the idea is the same in Featuretools. We use relationships to specify how examples in one table relate to examples in other tables. The entityset structure for this problem is fairly simple as there are only three entities with two relationships.  `members` is the parent of `logs` and `transactions`. In both relationships, the parent and child variable is `msno`, the customer id.\n",
        "\n",
        "The two relationships are: one linking `members` to `transactions` and one linking `members` to `logs`. The order for relationships in featuretools is parent variable, child variable."
      ]
    },
    {
      "cell_type": "code",
      "metadata": {
        "colab": {
          "base_uri": "https://localhost:8080/"
        },
        "id": "NZhgKJD3dUsi",
        "outputId": "82e34e50-7ad1-4e4e-c1f2-7806cb1884f0"
      },
      "source": [
        "# Relationships (parent, child)\n",
        "r_member_transactions = ft.Relationship(es['members']['msno'], es['transactions']['msno'])\n",
        "r_member_logs = ft.Relationship(es['members']['msno'], es['logs']['msno'])\n",
        "\n",
        "es.add_relationships([r_member_transactions, r_member_logs])"
      ],
      "execution_count": 32,
      "outputs": [
        {
          "output_type": "execute_result",
          "data": {
            "text/plain": [
              "Entityset: customers\n",
              "  Entities:\n",
              "    members [Rows: 6658, Columns: 6]\n",
              "    transactions [Rows: 22329, Columns: 13]\n",
              "    logs [Rows: 424252, Columns: 14]\n",
              "  Relationships:\n",
              "    transactions.msno -> members.msno\n",
              "    logs.msno -> members.msno"
            ]
          },
          "metadata": {
            "tags": []
          },
          "execution_count": 32
        }
      ]
    },
    {
      "cell_type": "markdown",
      "metadata": {
        "id": "INprgup0dUsj"
      },
      "source": [
        "### Cutoff Times\n",
        "\n",
        "`cutoff_times` are a critical piece of any time based machine learning problem. The label times dataframe has columns of member id, cutoff time, and label. __For each cutoff time, only data from before the cutoff time can be used to build features for that label.__ This is one of the greatest advantages of Featuretools compared to manual feature engineering: __Featuretools automatically filters our data based on the cutoff times to ensure that all the features are valid for machine learning.__ Normally, we would have to take extreme care to make sure all of our features are valid, but Featreutools is able to implement the filtering logic behind the scenes for us.\n",
        "\n",
        "All we have to do is make sure to pass in the correct label times for the prediction problem we want to solve."
      ]
    },
    {
      "cell_type": "code",
      "metadata": {
        "colab": {
          "base_uri": "https://localhost:8080/",
          "height": 191
        },
        "id": "_bZOMZ4HdUsj",
        "outputId": "23181201-6bec-40c6-f30c-ae5f5ab7d457"
      },
      "source": [
        "cutoff_times = cutoff_times.drop_duplicates(subset = ['msno', 'cutoff_time'])\n",
        "cutoff_times.head()"
      ],
      "execution_count": 33,
      "outputs": [
        {
          "output_type": "execute_result",
          "data": {
            "text/html": [
              "<div>\n",
              "<style scoped>\n",
              "    .dataframe tbody tr th:only-of-type {\n",
              "        vertical-align: middle;\n",
              "    }\n",
              "\n",
              "    .dataframe tbody tr th {\n",
              "        vertical-align: top;\n",
              "    }\n",
              "\n",
              "    .dataframe thead th {\n",
              "        text-align: right;\n",
              "    }\n",
              "</style>\n",
              "<table border=\"1\" class=\"dataframe\">\n",
              "  <thead>\n",
              "    <tr style=\"text-align: right;\">\n",
              "      <th></th>\n",
              "      <th>msno</th>\n",
              "      <th>cutoff_time</th>\n",
              "      <th>label</th>\n",
              "      <th>days_to_churn</th>\n",
              "      <th>churn_date</th>\n",
              "    </tr>\n",
              "  </thead>\n",
              "  <tbody>\n",
              "    <tr>\n",
              "      <th>0</th>\n",
              "      <td>++bK0FRJecXCogqXdjtO2Kyb3jq7uLM7qThTk+nN8tE=</td>\n",
              "      <td>2015-08-01</td>\n",
              "      <td>0.0</td>\n",
              "      <td>NaN</td>\n",
              "      <td>NaN</td>\n",
              "    </tr>\n",
              "    <tr>\n",
              "      <th>1</th>\n",
              "      <td>++bK0FRJecXCogqXdjtO2Kyb3jq7uLM7qThTk+nN8tE=</td>\n",
              "      <td>2015-09-01</td>\n",
              "      <td>0.0</td>\n",
              "      <td>NaN</td>\n",
              "      <td>NaN</td>\n",
              "    </tr>\n",
              "    <tr>\n",
              "      <th>2</th>\n",
              "      <td>++bK0FRJecXCogqXdjtO2Kyb3jq7uLM7qThTk+nN8tE=</td>\n",
              "      <td>2015-10-01</td>\n",
              "      <td>0.0</td>\n",
              "      <td>NaN</td>\n",
              "      <td>NaN</td>\n",
              "    </tr>\n",
              "    <tr>\n",
              "      <th>3</th>\n",
              "      <td>++bK0FRJecXCogqXdjtO2Kyb3jq7uLM7qThTk+nN8tE=</td>\n",
              "      <td>2015-11-01</td>\n",
              "      <td>0.0</td>\n",
              "      <td>NaN</td>\n",
              "      <td>NaN</td>\n",
              "    </tr>\n",
              "    <tr>\n",
              "      <th>4</th>\n",
              "      <td>++bK0FRJecXCogqXdjtO2Kyb3jq7uLM7qThTk+nN8tE=</td>\n",
              "      <td>2015-12-01</td>\n",
              "      <td>0.0</td>\n",
              "      <td>NaN</td>\n",
              "      <td>NaN</td>\n",
              "    </tr>\n",
              "  </tbody>\n",
              "</table>\n",
              "</div>"
            ],
            "text/plain": [
              "                                           msno  ... churn_date\n",
              "0  ++bK0FRJecXCogqXdjtO2Kyb3jq7uLM7qThTk+nN8tE=  ...        NaN\n",
              "1  ++bK0FRJecXCogqXdjtO2Kyb3jq7uLM7qThTk+nN8tE=  ...        NaN\n",
              "2  ++bK0FRJecXCogqXdjtO2Kyb3jq7uLM7qThTk+nN8tE=  ...        NaN\n",
              "3  ++bK0FRJecXCogqXdjtO2Kyb3jq7uLM7qThTk+nN8tE=  ...        NaN\n",
              "4  ++bK0FRJecXCogqXdjtO2Kyb3jq7uLM7qThTk+nN8tE=  ...        NaN\n",
              "\n",
              "[5 rows x 5 columns]"
            ]
          },
          "metadata": {
            "tags": []
          },
          "execution_count": 33
        }
      ]
    },
    {
      "cell_type": "markdown",
      "metadata": {
        "id": "taMD9uFadUsj"
      },
      "source": [
        "# Deep Feature Synthesis\n",
        "\n",
        "With the entities and relationships fully defined, we are ready to run [Deep Feature Synthesis (DFS)](https://www.featurelabs.com/blog/deep-feature-synthesis/). This process applies feature engineering building blocks called [feature primitives](https://docs.featuretools.com/automated_feature_engineering/primitives.html) to a dataset to build hundreds of features. Feature primitives are basic operations of two types - transforms and aggregations - that stack to build deep features (for more information see the previous linked resources). These includes many operations that we would traditionally carry out by hand, but automated feature engineering saves us from having to implement these features one at a time. \n",
        "\n",
        "The call to `ft.dfs` needs the entityset which holds all the tables and relationships between them, the `target_entity` to make features for, the specific primitives, the maximum stacking of primitives (`max_depth`), the `cutoff_times`, and a number of optional parameters.\n",
        "\n",
        "To start, we'll use the default aggregation and transformation primitives as well as two `where_primitives` and see how many features this generates. To only generate the definitions of the features, we pass in `features_only = True`.\n",
        "\n",
        "For full details on Deep Feature Synthesis, take a look at [the documentation](https://docs.featuretools.com/api_reference.html#deep-feature-synthesis). "
      ]
    },
    {
      "cell_type": "code",
      "metadata": {
        "id": "ytXOiEhOdUsk"
      },
      "source": [
        "feature_defs = ft.dfs(entityset=es, target_entity='members', \n",
        "                      cutoff_time = cutoff_times,\n",
        "                      where_primitives = ['sum', 'mean'],\n",
        "                      max_depth=2, features_only=True)"
      ],
      "execution_count": 34,
      "outputs": []
    },
    {
      "cell_type": "code",
      "metadata": {
        "colab": {
          "base_uri": "https://localhost:8080/"
        },
        "id": "kDNsI8c1dUsk",
        "outputId": "a3101c15-12d6-40bb-e020-6bbd735019eb"
      },
      "source": [
        "print(f'This will generate {len(feature_defs)} features.')"
      ],
      "execution_count": 35,
      "outputs": [
        {
          "output_type": "stream",
          "text": [
            "This will generate 188 features.\n"
          ],
          "name": "stdout"
        }
      ]
    },
    {
      "cell_type": "code",
      "metadata": {
        "colab": {
          "base_uri": "https://localhost:8080/"
        },
        "id": "ybZ991ypdUsl",
        "outputId": "dd23dc06-a465-4540-c69b-84a057f82c5b"
      },
      "source": [
        "import random; random.seed(42)\n",
        "\n",
        "random.sample(feature_defs, 10)"
      ],
      "execution_count": 36,
      "outputs": [
        {
          "output_type": "execute_result",
          "data": {
            "text/plain": [
              "[<Feature: MEAN(transactions.daily_price WHERE is_cancel = 1)>,\n",
              " <Feature: MIN(transactions.payment_plan_days)>,\n",
              " <Feature: SUM(transactions.actual_amount_paid)>,\n",
              " <Feature: MAX(logs.num_985)>,\n",
              " <Feature: STD(logs.total_secs)>,\n",
              " <Feature: STD(logs.num_50)>,\n",
              " <Feature: MEAN(transactions.plan_list_price)>,\n",
              " <Feature: SKEW(transactions.planned_daily_price)>,\n",
              " <Feature: MODE(transactions.DAY(membership_expire_date))>,\n",
              " <Feature: SUM(transactions.daily_price WHERE is_cancel = 1)>]"
            ]
          },
          "metadata": {
            "tags": []
          },
          "execution_count": 36
        }
      ]
    },
    {
      "cell_type": "markdown",
      "metadata": {
        "id": "O2bcp9xUdUsl"
      },
      "source": [
        "We can see that Featuretools has built almost 200 features automatically for us using the table relationships and feature primitives. If built by hand, each of these features would require minutes of work, totaling many hours to build 188 features. Moreover, although the features are not necessarily intuitive, they are easy to explain in natural language because they are simple operations stacked on top of each other."
      ]
    },
    {
      "cell_type": "markdown",
      "metadata": {
        "id": "9us3mRtQdUsm"
      },
      "source": [
        "## Specify Primitives \n",
        "\n",
        "Now we'll do a call to `ft.dfs` specifying the primitives to use. Often, these will depend on the problem and can involve domain knowledge. The best way to choose primitives is by trying out a variety and seeing which perform the best. Like many operations in machine learning, choosing primitives is still largely an empirical, rather than theoretical, practice."
      ]
    },
    {
      "cell_type": "markdown",
      "metadata": {
        "id": "Zu-5wLPbdUsm"
      },
      "source": [
        "### Aggregation Primitives"
      ]
    },
    {
      "cell_type": "code",
      "metadata": {
        "colab": {
          "base_uri": "https://localhost:8080/",
          "height": 191
        },
        "id": "wXFcnTL4dUsm",
        "outputId": "90623c58-c285-4348-81ba-3254515b529a"
      },
      "source": [
        "all_p = ft.list_primitives()\n",
        "trans_p = all_p.loc[all_p['type'] == 'transform'].copy()\n",
        "agg_p = all_p.loc[all_p['type'] == 'aggregation'].copy()\n",
        "\n",
        "pd.options.display.max_colwidth = 100\n",
        "agg_p.head()"
      ],
      "execution_count": 37,
      "outputs": [
        {
          "output_type": "execute_result",
          "data": {
            "text/html": [
              "<div>\n",
              "<style scoped>\n",
              "    .dataframe tbody tr th:only-of-type {\n",
              "        vertical-align: middle;\n",
              "    }\n",
              "\n",
              "    .dataframe tbody tr th {\n",
              "        vertical-align: top;\n",
              "    }\n",
              "\n",
              "    .dataframe thead th {\n",
              "        text-align: right;\n",
              "    }\n",
              "</style>\n",
              "<table border=\"1\" class=\"dataframe\">\n",
              "  <thead>\n",
              "    <tr style=\"text-align: right;\">\n",
              "      <th></th>\n",
              "      <th>name</th>\n",
              "      <th>type</th>\n",
              "      <th>description</th>\n",
              "    </tr>\n",
              "  </thead>\n",
              "  <tbody>\n",
              "    <tr>\n",
              "      <th>0</th>\n",
              "      <td>mean</td>\n",
              "      <td>aggregation</td>\n",
              "      <td>Computes the average value of a numeric feature.</td>\n",
              "    </tr>\n",
              "    <tr>\n",
              "      <th>1</th>\n",
              "      <td>count</td>\n",
              "      <td>aggregation</td>\n",
              "      <td>Counts the number of non null values.</td>\n",
              "    </tr>\n",
              "    <tr>\n",
              "      <th>2</th>\n",
              "      <td>time_since_last</td>\n",
              "      <td>aggregation</td>\n",
              "      <td>Time since last related instance.</td>\n",
              "    </tr>\n",
              "    <tr>\n",
              "      <th>3</th>\n",
              "      <td>any</td>\n",
              "      <td>aggregation</td>\n",
              "      <td>Test if any value is 'True'.</td>\n",
              "    </tr>\n",
              "    <tr>\n",
              "      <th>4</th>\n",
              "      <td>std</td>\n",
              "      <td>aggregation</td>\n",
              "      <td>Finds the standard deviation of a numeric feature ignoring null values.</td>\n",
              "    </tr>\n",
              "  </tbody>\n",
              "</table>\n",
              "</div>"
            ],
            "text/plain": [
              "              name  ...                                                              description\n",
              "0             mean  ...                         Computes the average value of a numeric feature.\n",
              "1            count  ...                                    Counts the number of non null values.\n",
              "2  time_since_last  ...                                        Time since last related instance.\n",
              "3              any  ...                                             Test if any value is 'True'.\n",
              "4              std  ...  Finds the standard deviation of a numeric feature ignoring null values.\n",
              "\n",
              "[5 rows x 3 columns]"
            ]
          },
          "metadata": {
            "tags": []
          },
          "execution_count": 37
        }
      ]
    },
    {
      "cell_type": "code",
      "metadata": {
        "id": "ikPnFbU7dUsn"
      },
      "source": [
        "# Specify aggregation primitives\n",
        "agg_primitives = ['sum', 'time_since_last', 'avg_time_between', 'all', 'mode', 'num_unique', 'min', 'last', \n",
        "                  'mean', 'percent_true', 'max', 'std', 'count']"
      ],
      "execution_count": 38,
      "outputs": []
    },
    {
      "cell_type": "markdown",
      "metadata": {
        "id": "6O-0YBK_dUsn"
      },
      "source": [
        "## Transform Primitives"
      ]
    },
    {
      "cell_type": "code",
      "metadata": {
        "colab": {
          "base_uri": "https://localhost:8080/",
          "height": 191
        },
        "id": "gkwT4L0TdUsn",
        "outputId": "bd79f983-a933-4eea-a362-f57bb30b2fc9"
      },
      "source": [
        "trans_p.tail()"
      ],
      "execution_count": 39,
      "outputs": [
        {
          "output_type": "execute_result",
          "data": {
            "text/html": [
              "<div>\n",
              "<style scoped>\n",
              "    .dataframe tbody tr th:only-of-type {\n",
              "        vertical-align: middle;\n",
              "    }\n",
              "\n",
              "    .dataframe tbody tr th {\n",
              "        vertical-align: top;\n",
              "    }\n",
              "\n",
              "    .dataframe thead th {\n",
              "        text-align: right;\n",
              "    }\n",
              "</style>\n",
              "<table border=\"1\" class=\"dataframe\">\n",
              "  <thead>\n",
              "    <tr style=\"text-align: right;\">\n",
              "      <th></th>\n",
              "      <th>name</th>\n",
              "      <th>type</th>\n",
              "      <th>description</th>\n",
              "    </tr>\n",
              "  </thead>\n",
              "  <tbody>\n",
              "    <tr>\n",
              "      <th>57</th>\n",
              "      <td>numwords</td>\n",
              "      <td>transform</td>\n",
              "      <td>Returns the words in a given string by counting the spaces.</td>\n",
              "    </tr>\n",
              "    <tr>\n",
              "      <th>58</th>\n",
              "      <td>cum_min</td>\n",
              "      <td>transform</td>\n",
              "      <td>Calculates the min of previous values of an instance for each value in a time-dependent entity.</td>\n",
              "    </tr>\n",
              "    <tr>\n",
              "      <th>59</th>\n",
              "      <td>divide</td>\n",
              "      <td>transform</td>\n",
              "      <td>Creates a transform feature that divides two features.</td>\n",
              "    </tr>\n",
              "    <tr>\n",
              "      <th>60</th>\n",
              "      <td>weekday</td>\n",
              "      <td>transform</td>\n",
              "      <td>Transform Datetime feature into the boolean of Weekday.</td>\n",
              "    </tr>\n",
              "    <tr>\n",
              "      <th>61</th>\n",
              "      <td>cum_count</td>\n",
              "      <td>transform</td>\n",
              "      <td>Calculates the number of previous values of an instance for each value in a time-dependent entity.</td>\n",
              "    </tr>\n",
              "  </tbody>\n",
              "</table>\n",
              "</div>"
            ],
            "text/plain": [
              "         name  ...                                                                                         description\n",
              "57   numwords  ...                                         Returns the words in a given string by counting the spaces.\n",
              "58    cum_min  ...     Calculates the min of previous values of an instance for each value in a time-dependent entity.\n",
              "59     divide  ...                                              Creates a transform feature that divides two features.\n",
              "60    weekday  ...                                             Transform Datetime feature into the boolean of Weekday.\n",
              "61  cum_count  ...  Calculates the number of previous values of an instance for each value in a time-dependent entity.\n",
              "\n",
              "[5 rows x 3 columns]"
            ]
          },
          "metadata": {
            "tags": []
          },
          "execution_count": 39
        }
      ]
    },
    {
      "cell_type": "code",
      "metadata": {
        "id": "jVHJ7EKHdUso"
      },
      "source": [
        "# Specify transformation primitives\n",
        "trans_primitives = ['weekend', 'cum_sum', 'day', 'month', 'diff', 'time_since_previous']"
      ],
      "execution_count": 40,
      "outputs": []
    },
    {
      "cell_type": "markdown",
      "metadata": {
        "id": "Nj9ftYJ6dUso"
      },
      "source": [
        "### Where Primitives\n",
        "\n",
        "These primitives are applied to the `interesting_values` to build conditional features. "
      ]
    },
    {
      "cell_type": "code",
      "metadata": {
        "id": "eYB3vV0vdUsp"
      },
      "source": [
        "# Specify where primitives\n",
        "where_primitives = ['sum', 'mean', 'percent_true', 'all', 'any']"
      ],
      "execution_count": 41,
      "outputs": []
    },
    {
      "cell_type": "markdown",
      "metadata": {
        "id": "V0hO3VjVdUsp"
      },
      "source": [
        "## Custom Primitives\n",
        "\n",
        "[Custom primitives](https://docs.featuretools.com/automated_feature_engineering/primitives.html#defining-custom-primitives) are one of the most powerful options in Featuretools. We use custom primitives to write our own functions based on domain knowledge and then pass them to `dfs` like any other primitives. Featuretools will then stack our custom primitives with the other primitives, again, in effect, amplifying our domain knowledge.\n",
        "\n",
        "For this problem, I wrote a custom primitive that calculates the sum of a value in the month prior to the cutoff time. This is actually a primitive I [wrote for another problem](https://github.com/Featuretools/Automated-Manual-Comparison/tree/master/Retail%20Spending) but I can apply it to this problem because primitives are data agnostic. That's one of the benefits of feature primitives: they can work for any problem and writing a custom primitive will pay off many times over."
      ]
    },
    {
      "cell_type": "code",
      "metadata": {
        "id": "i7fFT9D9dUsp"
      },
      "source": [
        "from featuretools.primitives import make_agg_primitive\n",
        "\n",
        "def total_previous_month(numeric, datetime, time):\n",
        "    \"\"\"Return total of `numeric` column in the month prior to `time`.\"\"\"\n",
        "    df = pd.DataFrame({'value': numeric, 'date': datetime})\n",
        "    previous_month = time.month - 1\n",
        "    year = time.year\n",
        "   \n",
        "    # Handle January\n",
        "    if previous_month == 0:\n",
        "        previous_month = 12\n",
        "        year = time.year - 1\n",
        "        \n",
        "    # Filter data and sum up total\n",
        "    df = df[(df['date'].dt.month == previous_month) & (df['date'].dt.year == year)]\n",
        "    total = df['value'].sum()\n",
        "    \n",
        "    return total"
      ],
      "execution_count": 43,
      "outputs": []
    },
    {
      "cell_type": "code",
      "metadata": {
        "colab": {
          "base_uri": "https://localhost:8080/",
          "height": 288
        },
        "id": "yN5r5mOddUsq",
        "outputId": "70bc92dd-6041-4cf6-a553-62bf9809b81b"
      },
      "source": [
        "numeric = [10, 12, 14, 15, 19, 22, 9, 8, 8, 11]\n",
        "dates = pd.date_range('2018-01-01', '2018-03-01', periods = len(numeric))\n",
        "pd.DataFrame({'value': numeric, 'date': dates}).head(6)\n",
        "total_previous_month(numeric, dates, pd.datetime(2018, 2, 1))"
      ],
      "execution_count": 45,
      "outputs": [
        {
          "output_type": "execute_result",
          "data": {
            "text/html": [
              "<div>\n",
              "<style scoped>\n",
              "    .dataframe tbody tr th:only-of-type {\n",
              "        vertical-align: middle;\n",
              "    }\n",
              "\n",
              "    .dataframe tbody tr th {\n",
              "        vertical-align: top;\n",
              "    }\n",
              "\n",
              "    .dataframe thead th {\n",
              "        text-align: right;\n",
              "    }\n",
              "</style>\n",
              "<table border=\"1\" class=\"dataframe\">\n",
              "  <thead>\n",
              "    <tr style=\"text-align: right;\">\n",
              "      <th></th>\n",
              "      <th>value</th>\n",
              "      <th>date</th>\n",
              "    </tr>\n",
              "  </thead>\n",
              "  <tbody>\n",
              "    <tr>\n",
              "      <th>0</th>\n",
              "      <td>10</td>\n",
              "      <td>2018-01-01 00:00:00</td>\n",
              "    </tr>\n",
              "    <tr>\n",
              "      <th>1</th>\n",
              "      <td>12</td>\n",
              "      <td>2018-01-07 13:20:00</td>\n",
              "    </tr>\n",
              "    <tr>\n",
              "      <th>2</th>\n",
              "      <td>14</td>\n",
              "      <td>2018-01-14 02:40:00</td>\n",
              "    </tr>\n",
              "    <tr>\n",
              "      <th>3</th>\n",
              "      <td>15</td>\n",
              "      <td>2018-01-20 16:00:00</td>\n",
              "    </tr>\n",
              "    <tr>\n",
              "      <th>4</th>\n",
              "      <td>19</td>\n",
              "      <td>2018-01-27 05:20:00</td>\n",
              "    </tr>\n",
              "    <tr>\n",
              "      <th>5</th>\n",
              "      <td>22</td>\n",
              "      <td>2018-02-02 18:40:00</td>\n",
              "    </tr>\n",
              "  </tbody>\n",
              "</table>\n",
              "</div>"
            ],
            "text/plain": [
              "   value                date\n",
              "0     10 2018-01-01 00:00:00\n",
              "1     12 2018-01-07 13:20:00\n",
              "2     14 2018-01-14 02:40:00\n",
              "3     15 2018-01-20 16:00:00\n",
              "4     19 2018-01-27 05:20:00\n",
              "5     22 2018-02-02 18:40:00"
            ]
          },
          "metadata": {
            "tags": []
          },
          "execution_count": 45
        },
        {
          "output_type": "stream",
          "text": [
            "/usr/local/lib/python3.7/dist-packages/ipykernel_launcher.py:4: FutureWarning: The pandas.datetime class is deprecated and will be removed from pandas in a future version. Import from datetime module instead.\n",
            "  after removing the cwd from sys.path.\n"
          ],
          "name": "stderr"
        },
        {
          "output_type": "execute_result",
          "data": {
            "text/plain": [
              "70"
            ]
          },
          "metadata": {
            "tags": []
          },
          "execution_count": 45
        }
      ]
    },
    {
      "cell_type": "code",
      "metadata": {
        "colab": {
          "base_uri": "https://localhost:8080/",
          "height": 288
        },
        "id": "1tO1qFxsdUsq",
        "outputId": "af76287d-00a0-4fff-c388-dae208f6be30"
      },
      "source": [
        "numeric = [10, 12, 14, 5, 7, 8]\n",
        "dates = pd.date_range('2018-01-01', '2018-03-01', periods = len(numeric))\n",
        "pd.DataFrame({'value': numeric, 'date': dates}).head(6)\n",
        "total_previous_month(numeric, dates, pd.datetime(2018, 3, 1))"
      ],
      "execution_count": 46,
      "outputs": [
        {
          "output_type": "execute_result",
          "data": {
            "text/html": [
              "<div>\n",
              "<style scoped>\n",
              "    .dataframe tbody tr th:only-of-type {\n",
              "        vertical-align: middle;\n",
              "    }\n",
              "\n",
              "    .dataframe tbody tr th {\n",
              "        vertical-align: top;\n",
              "    }\n",
              "\n",
              "    .dataframe thead th {\n",
              "        text-align: right;\n",
              "    }\n",
              "</style>\n",
              "<table border=\"1\" class=\"dataframe\">\n",
              "  <thead>\n",
              "    <tr style=\"text-align: right;\">\n",
              "      <th></th>\n",
              "      <th>value</th>\n",
              "      <th>date</th>\n",
              "    </tr>\n",
              "  </thead>\n",
              "  <tbody>\n",
              "    <tr>\n",
              "      <th>0</th>\n",
              "      <td>10</td>\n",
              "      <td>2018-01-01 00:00:00</td>\n",
              "    </tr>\n",
              "    <tr>\n",
              "      <th>1</th>\n",
              "      <td>12</td>\n",
              "      <td>2018-01-12 19:12:00</td>\n",
              "    </tr>\n",
              "    <tr>\n",
              "      <th>2</th>\n",
              "      <td>14</td>\n",
              "      <td>2018-01-24 14:24:00</td>\n",
              "    </tr>\n",
              "    <tr>\n",
              "      <th>3</th>\n",
              "      <td>5</td>\n",
              "      <td>2018-02-05 09:36:00</td>\n",
              "    </tr>\n",
              "    <tr>\n",
              "      <th>4</th>\n",
              "      <td>7</td>\n",
              "      <td>2018-02-17 04:48:00</td>\n",
              "    </tr>\n",
              "    <tr>\n",
              "      <th>5</th>\n",
              "      <td>8</td>\n",
              "      <td>2018-03-01 00:00:00</td>\n",
              "    </tr>\n",
              "  </tbody>\n",
              "</table>\n",
              "</div>"
            ],
            "text/plain": [
              "   value                date\n",
              "0     10 2018-01-01 00:00:00\n",
              "1     12 2018-01-12 19:12:00\n",
              "2     14 2018-01-24 14:24:00\n",
              "3      5 2018-02-05 09:36:00\n",
              "4      7 2018-02-17 04:48:00\n",
              "5      8 2018-03-01 00:00:00"
            ]
          },
          "metadata": {
            "tags": []
          },
          "execution_count": 46
        },
        {
          "output_type": "stream",
          "text": [
            "/usr/local/lib/python3.7/dist-packages/ipykernel_launcher.py:4: FutureWarning: The pandas.datetime class is deprecated and will be removed from pandas in a future version. Import from datetime module instead.\n",
            "  after removing the cwd from sys.path.\n"
          ],
          "name": "stderr"
        },
        {
          "output_type": "execute_result",
          "data": {
            "text/plain": [
              "12"
            ]
          },
          "metadata": {
            "tags": []
          },
          "execution_count": 46
        }
      ]
    },
    {
      "cell_type": "markdown",
      "metadata": {
        "id": "PtWPw1YAdUsq"
      },
      "source": [
        "### Custom Primitive Implementation\n",
        "\n",
        "Making a custom primitive is simple: first we define a function (`total_previous_month`) and then we `make_agg_primitive` with `input_type[s]`, a `return_type`, and whether or not the primitive requires the `cutoff_time` through `uses_calc_time`. \n",
        "\n",
        "This primitive is an aggregation primitive because it takes in multiple numbers - transactions for the previous month - and returns a single number - the total of the transactions. "
      ]
    },
    {
      "cell_type": "code",
      "metadata": {
        "id": "N7ZxM1x1dUsr"
      },
      "source": [
        "# Takes in a number and outputs a number\n",
        "total_previous = make_agg_primitive(total_previous_month, input_types = [ft.variable_types.Numeric,\n",
        "                                                                         ft.variable_types.Datetime],\n",
        "                                    return_type = ft.variable_types.Numeric, \n",
        "                                    uses_calc_time = True)"
      ],
      "execution_count": 47,
      "outputs": []
    },
    {
      "cell_type": "markdown",
      "metadata": {
        "id": "YCMUFsS-dUsr"
      },
      "source": [
        "Now just have to pass this in as another aggregation primitive for Featuretools to use it in calculations.\n",
        "\n",
        "\n",
        "The second custom primitive finds the time since a previous true value. This is originally intended for the `is_cancel` variable in the `transactions` dataframe, but it can work for any Boolean variable. It simply finds the time between True examples."
      ]
    },
    {
      "cell_type": "code",
      "metadata": {
        "id": "1yuwvouEdUsr"
      },
      "source": [
        "def time_since_true(boolean, datetime):\n",
        "    \"\"\"Calculate time since previous true value\"\"\"\n",
        "    \n",
        "    if np.any(np.array(list(boolean)) == 1):\n",
        "        # Create dataframe sorted from oldest to newest \n",
        "        df = pd.DataFrame({'value': boolean, 'date': datetime}).\\\n",
        "                sort_values('date', ascending = False).reset_index()\n",
        "\n",
        "        older_date = None\n",
        "\n",
        "        # Iterate through each date in reverse order\n",
        "        for date in df.loc[df['value'] == 1, 'date']:\n",
        "\n",
        "            # If there was no older true value\n",
        "            if older_date == None:\n",
        "                # Subset to times on or after true\n",
        "                times_after_idx = df.loc[df['date'] >= date].index\n",
        "\n",
        "            else:\n",
        "                # Subset to times on or after true but before previous true\n",
        "                times_after_idx = df.loc[(df['date'] >= date) & (df['date'] < older_date)].index\n",
        "            older_date = date\n",
        "            # Calculate time since previous true\n",
        "            df.loc[times_after_idx, 'time_since_previous'] = (df.loc[times_after_idx, 'date'] - date).dt.total_seconds()\n",
        "\n",
        "        return list(df['time_since_previous'])[::-1]\n",
        "    \n",
        "    # Handle case with no true values\n",
        "    else:\n",
        "        return [np.nan for _ in range(len(boolean))]"
      ],
      "execution_count": 48,
      "outputs": []
    },
    {
      "cell_type": "code",
      "metadata": {
        "colab": {
          "base_uri": "https://localhost:8080/"
        },
        "id": "FeFfiZ_bdUss",
        "outputId": "6d39afcb-1256-447b-9c26-f3bc75656206"
      },
      "source": [
        "booleans = []\n",
        "dates = []\n",
        "df = pd.DataFrame({'value': booleans, 'date': dates})\n",
        "time_since_true(df['value'], df['date'])"
      ],
      "execution_count": 49,
      "outputs": [
        {
          "output_type": "execute_result",
          "data": {
            "text/plain": [
              "[]"
            ]
          },
          "metadata": {
            "tags": []
          },
          "execution_count": 49
        }
      ]
    },
    {
      "cell_type": "code",
      "metadata": {
        "colab": {
          "base_uri": "https://localhost:8080/"
        },
        "id": "vB7IQfi6dUss",
        "outputId": "addc0e1e-1a37-4b44-f28d-4adff982d485"
      },
      "source": [
        "booleans = [1, 0, 0, 0, 0, 1, 1, 1, 0, 0, 0]\n",
        "dates = pd.date_range('2018-01-01', '2018-03-01', periods = len(booleans))\n",
        "df = pd.DataFrame({'value': booleans, 'date': dates})\n",
        "time_since_true(df['value'], df['date'])"
      ],
      "execution_count": 50,
      "outputs": [
        {
          "output_type": "execute_result",
          "data": {
            "text/plain": [
              "[0.0,\n",
              " 509760.00000000006,\n",
              " 1019520.0000000001,\n",
              " 1529280.0,\n",
              " 2039040.0000000002,\n",
              " 0.0,\n",
              " 0.0,\n",
              " 0.0,\n",
              " 509760.00000000006,\n",
              " 1019520.0000000001,\n",
              " 1529280.0]"
            ]
          },
          "metadata": {
            "tags": []
          },
          "execution_count": 50
        }
      ]
    },
    {
      "cell_type": "code",
      "metadata": {
        "colab": {
          "base_uri": "https://localhost:8080/"
        },
        "id": "dCsfvdcAdUss",
        "outputId": "abebfd83-04ec-4a0d-bc20-6323c1a03195"
      },
      "source": [
        "booleans = [1, 0, 0]\n",
        "dates = pd.date_range('2018-01-01', '2018-03-01', periods = len(booleans))\n",
        "time_since_true(booleans, dates)"
      ],
      "execution_count": 51,
      "outputs": [
        {
          "output_type": "execute_result",
          "data": {
            "text/plain": [
              "[0.0, 2548800.0, 5097600.0]"
            ]
          },
          "metadata": {
            "tags": []
          },
          "execution_count": 51
        }
      ]
    },
    {
      "cell_type": "code",
      "metadata": {
        "colab": {
          "base_uri": "https://localhost:8080/"
        },
        "id": "1tmPKErwdUst",
        "outputId": "fe5ad069-3161-4144-fd4e-e4008b01e1dd"
      },
      "source": [
        "booleans = [0, 0]\n",
        "dates = pd.date_range('2018-01-01', '2018-03-01', periods = len(booleans))\n",
        "time_since_true(booleans, dates)"
      ],
      "execution_count": 52,
      "outputs": [
        {
          "output_type": "execute_result",
          "data": {
            "text/plain": [
              "[nan, nan]"
            ]
          },
          "metadata": {
            "tags": []
          },
          "execution_count": 52
        }
      ]
    },
    {
      "cell_type": "markdown",
      "metadata": {
        "id": "480SN_vzdUst"
      },
      "source": [
        "This is a transformation primitive since it acts on multiple columns in the same table. The returned list is the same length as the original column."
      ]
    },
    {
      "cell_type": "code",
      "metadata": {
        "id": "d9n8p_i-dUst"
      },
      "source": [
        "from featuretools.primitives import make_trans_primitive\n",
        "\n",
        "# Specify the inputs and return\n",
        "time_since = make_trans_primitive(time_since_true, \n",
        "                                  input_types = [vtypes.Boolean, vtypes.Datetime],\n",
        "                                  return_type = vtypes.Numeric)"
      ],
      "execution_count": 53,
      "outputs": []
    },
    {
      "cell_type": "markdown",
      "metadata": {
        "id": "BgZ6sHKDdUsu"
      },
      "source": [
        "Let's add the two custom primitives to the respective lists. In the final version of feature engineering, I did not use the `time_since` primitive. I ran into problems with the implementation but would encourage anyone to try and fix it or build their own custom primitive[s]."
      ]
    },
    {
      "cell_type": "code",
      "metadata": {
        "id": "2YiOw2KedUsu"
      },
      "source": [
        "agg_primitives.append(total_previous)\n",
        "# trans_primitives.append(time_since)"
      ],
      "execution_count": 54,
      "outputs": []
    },
    {
      "cell_type": "markdown",
      "metadata": {
        "id": "DT4Tc8FmdUsu"
      },
      "source": [
        "## Deep Feature Synthesis with Specified Primitives\n",
        "\n",
        "We'll again run Deep Feature Synthesis to make the feature definitions this time using the selected primitives and the custom primitives. "
      ]
    },
    {
      "cell_type": "code",
      "metadata": {
        "id": "-0lXU4ujdUsv"
      },
      "source": [
        "feature_defs = ft.dfs(entityset=es, target_entity='members', \n",
        "                      cutoff_time = cutoff_times, \n",
        "                      agg_primitives = agg_primitives,\n",
        "                      trans_primitives = trans_primitives,\n",
        "                      where_primitives = where_primitives,\n",
        "                      chunk_size = len(cutoff_times), \n",
        "                      cutoff_time_in_index = True,\n",
        "                      max_depth = 2, features_only = True)"
      ],
      "execution_count": 55,
      "outputs": []
    },
    {
      "cell_type": "code",
      "metadata": {
        "colab": {
          "base_uri": "https://localhost:8080/"
        },
        "id": "2Pjr6Ow8dUsv",
        "outputId": "a661061c-91fe-48e9-d134-0fefaf73e7ff"
      },
      "source": [
        "print(f'This will generate {len(feature_defs)} features.')"
      ],
      "execution_count": 56,
      "outputs": [
        {
          "output_type": "stream",
          "text": [
            "This will generate 255 features.\n"
          ],
          "name": "stdout"
        }
      ]
    },
    {
      "cell_type": "code",
      "metadata": {
        "colab": {
          "base_uri": "https://localhost:8080/"
        },
        "id": "T6qkNp4sdUsv",
        "outputId": "f99ab856-9e69-47db-8adf-af913af3a682"
      },
      "source": [
        "random.sample(feature_defs, 15)"
      ],
      "execution_count": 57,
      "outputs": [
        {
          "output_type": "execute_result",
          "data": {
            "text/plain": [
              "[<Feature: LAST(transactions.payment_plan_days)>,\n",
              " <Feature: SUM(transactions.plan_list_price WHERE is_auto_renew = 1)>,\n",
              " <Feature: MEAN(logs.percent_unique)>,\n",
              " <Feature: SUM(transactions.planned_daily_price)>,\n",
              " <Feature: SUM(transactions.price_difference)>,\n",
              " <Feature: LAST(transactions.plan_list_price)>,\n",
              " <Feature: TOTAL_PREVIOUS_MONTH(transactions.actual_amount_paid, membership_expire_date)>,\n",
              " <Feature: TOTAL_PREVIOUS_MONTH(transactions.plan_list_price, membership_expire_date)>,\n",
              " <Feature: STD(logs.percent_100)>,\n",
              " <Feature: SUM(transactions.plan_list_price WHERE is_cancel = 1)>,\n",
              " <Feature: SUM(transactions.actual_amount_paid)>,\n",
              " <Feature: TOTAL_PREVIOUS_MONTH(logs.seconds_per_song, date)>,\n",
              " <Feature: STD(transactions.daily_price)>,\n",
              " <Feature: ALL(transactions.WEEKEND(membership_expire_date) WHERE is_auto_renew = 0)>,\n",
              " <Feature: SUM(transactions.planned_daily_price WHERE is_cancel = 1)>]"
            ]
          },
          "metadata": {
            "tags": []
          },
          "execution_count": 57
        }
      ]
    },
    {
      "cell_type": "markdown",
      "metadata": {
        "id": "ejISb_1xdUsw"
      },
      "source": [
        "We can see that our custom primitive `TOTAL_PREVIOUS_MONTH` has been applied to create more features. The benefit of custom primitives are that they can be used to encode specific domain knowledge into the feature engineering process. Moreover, we don't get just the custom primitive itself, we also get features that are stacked on top of the primitive."
      ]
    },
    {
      "cell_type": "markdown",
      "metadata": {
        "id": "cLf7zqPudUsw"
      },
      "source": [
        "# Run Deep Feature Synthesis\n",
        "\n",
        "Once we're happy with the features that will be generated, we can run deep feature synthesis to make the actual features. We need to change `feature_only` to `False` and then we're good to go."
      ]
    },
    {
      "cell_type": "code",
      "metadata": {
        "colab": {
          "base_uri": "https://localhost:8080/"
        },
        "id": "tpStZgMadUsw",
        "outputId": "4067c92c-1ada-4098-bf63-e9b3c7b2861b"
      },
      "source": [
        "from timeit import default_timer as timer\n",
        "\n",
        "start = timer()\n",
        "feature_matrix, feature_defs = ft.dfs(entityset=es, target_entity='members', \n",
        "                                      cutoff_time = cutoff_times, \n",
        "                                      agg_primitives = agg_primitives,\n",
        "                                      trans_primitives = trans_primitives,\n",
        "                                      where_primitives = where_primitives,\n",
        "                                      max_depth = 2, features_only = False,\n",
        "                                      verbose = 1, chunk_size = 1000,  \n",
        "                                      n_jobs = -1,\n",
        "                                      cutoff_time_in_index = True)\n",
        "end = timer()\n",
        "print(f'{round(end - start)} seconds elapsed.')"
      ],
      "execution_count": null,
      "outputs": [
        {
          "output_type": "stream",
          "text": [
            "Built 255 features\n"
          ],
          "name": "stdout"
        },
        {
          "output_type": "stream",
          "text": [
            "/usr/local/lib/python3.7/dist-packages/dask/context.py:23: UserWarning: The dask.set_options function has been deprecated. Please use dask.config.set instead\n",
            "  warnings.warn(\"The dask.set_options function has been deprecated. \"\n"
          ],
          "name": "stderr"
        },
        {
          "output_type": "stream",
          "text": [
            "EntitySet scattered to workers in 1.871 seconds\n",
            "Elapsed: 01:16 | Remaining: 24:35 | Progress:   7%|▋         | Calculated: 2/30 chunks"
          ],
          "name": "stdout"
        }
      ]
    },
    {
      "cell_type": "markdown",
      "metadata": {
        "id": "7hJaXNX1dUsx"
      },
      "source": [
        "The `chunk_size` is a parameter that may need to be adjusted to optimize the calculation. I suggest playing around with this parameter to find the optimal value. Generally I've found that a large value makes the calculation proceed quicker although it depends on the machine in use and the number of unique cutoff times. "
      ]
    },
    {
      "cell_type": "code",
      "metadata": {
        "id": "jFE--FvpdUsx"
      },
      "source": [
        "feature_matrix.head()"
      ],
      "execution_count": null,
      "outputs": []
    },
    {
      "cell_type": "markdown",
      "metadata": {
        "id": "c1rKR42RdUsx"
      },
      "source": [
        "We can save these feature definitions as a binary file which will allow us to make the same exact features for another entityset of the same format. This is useful when we have multiple partitions and we want to make the same features for each. Instead of remaking the feature definitions, we pass in the same feature definitions to a call to `calculate_feature_matrix`."
      ]
    },
    {
      "cell_type": "code",
      "metadata": {
        "id": "pGu8wSQydUsx"
      },
      "source": [
        "ft.save_features(feature_defs, './data/churn/features.txt')"
      ],
      "execution_count": null,
      "outputs": []
    },
    {
      "cell_type": "code",
      "metadata": {
        "id": "ZTvc7kjzdUsy",
        "outputId": "2a2788bf-f4c6-435f-83a0-67dac6b40756"
      },
      "source": [
        "feature_matrix.loc[feature_matrix['SUM(logs.num_100)'] < 10000, 'SUM(logs.num_100)'].plot.hist();\n",
        "plt.title('Sum of Number of Songs Listened to 100 %');"
      ],
      "execution_count": null,
      "outputs": [
        {
          "output_type": "display_data",
          "data": {
            "image/png": "[encoded data removed]",
            "text/plain": [
              "<Figure size 432x288 with 1 Axes>"
            ]
          },
          "metadata": {
            "tags": [],
            "needs_background": "light"
          }
        }
      ]
    },
    {
      "cell_type": "code",
      "metadata": {
        "id": "_WDfMS4rdUsy",
        "outputId": "6d117985-fc92-4f5f-b7dc-2aaf17cb718b"
      },
      "source": [
        "feature_matrix['TOTAL_PREVIOUS_MONTH(logs.num_unq, date)'].plot.hist()\n",
        "plt.title('Number of Unique Songs Listened to in Past Month');"
      ],
      "execution_count": null,
      "outputs": [
        {
          "output_type": "display_data",
          "data": {
            "image/png": "[encoded data removed]",
            "text/plain": [
              "<Figure size 432x288 with 1 Axes>"
            ]
          },
          "metadata": {
            "tags": [],
            "needs_background": "light"
          }
        }
      ]
    },
    {
      "cell_type": "code",
      "metadata": {
        "id": "PWkNu9AHdUsy",
        "outputId": "8f0c49c3-264c-4946-a027-3c6169c5c97c"
      },
      "source": [
        "feature_matrix['TOTAL_PREVIOUS_MONTH(logs.num_unq, date)'].describe()"
      ],
      "execution_count": null,
      "outputs": [
        {
          "output_type": "execute_result",
          "data": {
            "text/plain": [
              "count    21944.000000\n",
              "mean       452.605359\n",
              "std        561.207982\n",
              "min          0.000000\n",
              "25%         61.000000\n",
              "50%        276.000000\n",
              "75%        626.000000\n",
              "max       5697.000000\n",
              "Name: TOTAL_PREVIOUS_MONTH(logs.num_unq, date), dtype: float64"
            ]
          },
          "metadata": {
            "tags": []
          },
          "execution_count": 47
        }
      ]
    },
    {
      "cell_type": "code",
      "metadata": {
        "id": "wk9DmxVUdUsz",
        "outputId": "ca018724-97fd-49d0-cd60-38a68fc724eb"
      },
      "source": [
        "plt.figure(figsize = (6, 8))\n",
        "sns.boxplot(y = feature_matrix['TOTAL_PREVIOUS_MONTH(logs.num_unq, date)']);"
      ],
      "execution_count": null,
      "outputs": [
        {
          "output_type": "display_data",
          "data": {
            "image/png": "[encoded data removed]",
            "text/plain": [
              "<Figure size 432x576 with 1 Axes>"
            ]
          },
          "metadata": {
            "tags": [],
            "needs_background": "light"
          }
        }
      ]
    },
    {
      "cell_type": "code",
      "metadata": {
        "id": "0LLu1EoCdUsz",
        "outputId": "c23eb940-3a5e-4963-c71d-ee6a599986e7"
      },
      "source": [
        "feature_defs = ft.load_features('./data/churn/features.txt')\n",
        "print(f'There are {len(feature_defs)} features.')"
      ],
      "execution_count": null,
      "outputs": [
        {
          "output_type": "stream",
          "text": [
            "There are 255 features.\n"
          ],
          "name": "stdout"
        }
      ]
    },
    {
      "cell_type": "markdown",
      "metadata": {
        "id": "41tnkaEedUs0"
      },
      "source": [
        "# Conclusions\n",
        "\n",
        "Automated feature engineering is a significant improvement over manual feature engineering in terms of both time and modeling performance. In this notebook, we implemented an automated feature engineering workflow with Featuretools for the customer churn problem. Given customer data and label times, we can now calculate a feature matrix with several hundred relevant features for predicting customer churn while ensuring that our features are made with valid data for each cutoff time. \n",
        "\n",
        "Along the way, we implemented a number of Featuretools concepts:\n",
        "\n",
        "1. An entityset and entities\n",
        "2. Relationships between entities\n",
        "3. Cutoff times\n",
        "4. Feature primitives\n",
        "5. Custom primitives\n",
        "6. Deep feature synthesis\n",
        "\n",
        "These concepts will serve us well in future machine learning projects that we can tackle with automated feature engineering.\n",
        "\n",
        "## Next Steps\n",
        "\n",
        "Although we often hear that \"data is the fuel of machine learning\", data is not exactly a fuel but more like crude oil. _Features_ are the refined product that we feed into a machine learning model to make accurate predictions. After performing prediction engineering and automated feature engineering, the next step is to use these features in a predictive model to estimate the _label_ using the _features_. \n",
        "\n",
        "Generating hundreds of features automatically is impressive, but if those features cannot allow a model to learn our prediction problem then they are not mcuch help! The next step is to use our features and labeled historical examples to train a machine learning model to make predictions of customer churn. We'll make sure to test our model using a hold-out testing set to estimate performance on new data. Then, after validating our model, we can use it on new examples by passing the data through the feature engineering process. \n",
        "\n",
        "\n",
        "If you want to see how to parallelize feature engineering in Spark, see the `Feature Engineering on Spark` notebook. Otherwise, the next notebook is `Modeling`, where we develop a machine learning model to predict churn using the historical labeled examples and the automatically engineered features."
      ]
    },
    {
      "cell_type": "code",
      "metadata": {
        "id": "M1vdT596dUs0"
      },
      "source": [
        ""
      ],
      "execution_count": null,
      "outputs": []
    }
  ]
}